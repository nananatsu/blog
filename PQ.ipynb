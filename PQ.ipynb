{
  "nbformat": 4,
  "nbformat_minor": 0,
  "metadata": {
    "colab": {
      "provenance": [],
      "authorship_tag": "ABX9TyPdRY5lQc8wImLs5+/6FQuP",
      "include_colab_link": true
    },
    "kernelspec": {
      "name": "python3",
      "display_name": "Python 3"
    },
    "language_info": {
      "name": "python"
    }
  },
  "cells": [
    {
      "cell_type": "markdown",
      "metadata": {
        "id": "view-in-github",
        "colab_type": "text"
      },
      "source": [
        "<a href=\"https://colab.research.google.com/github/nananatsu/blog/blob/master/PQ.ipynb\" target=\"_parent\"><img src=\"https://colab.research.google.com/assets/colab-badge.svg\" alt=\"Open In Colab\"/></a>"
      ]
    },
    {
      "cell_type": "markdown",
      "source": [
        "准备测试数据"
      ],
      "metadata": {
        "id": "_c0D6I-_wF8f"
      }
    },
    {
      "cell_type": "code",
      "execution_count": 1,
      "metadata": {
        "id": "YxtYY93ev_iA",
        "colab": {
          "base_uri": "https://localhost:8080/"
        },
        "outputId": "d060ff06-af29-4ba0-dcad-06ee0830d21f"
      },
      "outputs": [
        {
          "output_type": "stream",
          "name": "stdout",
          "text": [
            "Mounted at /content/drive/\n",
            "Archive:  /content/drive/MyDrive/train_data/baike2018qa.zip\n",
            "  inflating: mydata/baike_qa_train.json  \n",
            "  inflating: mydata/baike_qa_valid.json  \n"
          ]
        }
      ],
      "source": [
        "from google.colab import drive\n",
        "\n",
        "drive.mount('/content/drive/')\n",
        "\n",
        "!mkdir -p mydata\n",
        "!unzip /content/drive/MyDrive/train_data/baike2018qa.zip -d mydata"
      ]
    },
    {
      "cell_type": "code",
      "source": [
        "%pip install numpy pandas scipy sentence-transformers torch faiss-gpu"
      ],
      "metadata": {
        "id": "pX_NUsN2wCGZ",
        "colab": {
          "base_uri": "https://localhost:8080/"
        },
        "outputId": "0340a4ba-21a0-4e64-8c15-89029d5e2f0a"
      },
      "execution_count": 2,
      "outputs": [
        {
          "output_type": "stream",
          "name": "stdout",
          "text": [
            "Installing collected packages: tokenizers, sentencepiece, safetensors, faiss-gpu, huggingface-hub, transformers, sentence-transformers\n",
            "Successfully installed faiss-gpu-1.7.2 huggingface-hub-0.16.4 safetensors-0.3.1 sentence-transformers-2.2.2 sentencepiece-0.1.99 tokenizers-0.13.3 transformers-4.31.0\n"
          ]
        }
      ]
    },
    {
      "cell_type": "code",
      "source": [
        "import pandas as pd\n",
        "\n",
        "data = pd.read_json('./mydata/baike_qa_train.json', lines=True, nrows=5000)\n",
        "\n",
        "sentences = data['title']"
      ],
      "metadata": {
        "id": "BUwVYf42wDvo"
      },
      "execution_count": 3,
      "outputs": []
    },
    {
      "cell_type": "code",
      "source": [
        "from sentence_transformers import SentenceTransformer\n",
        "\n",
        "model = SentenceTransformer('DMetaSoul/sbert-chinese-general-v2')\n",
        "sentence_embeddings = model.encode(sentences)\n",
        "\n",
        "sentence_embeddings.shape"
      ],
      "metadata": {
        "colab": {
          "base_uri": "https://localhost:8080/"
        },
        "id": "p-7EyP8-XjqT",
        "outputId": "406ed1f4-41b0-4972-e02d-9cf240d44381"
      },
      "execution_count": 4,
      "outputs": [
        {
          "output_type": "execute_result",
          "data": {
            "text/plain": [
              "(5000, 768)"
            ]
          },
          "metadata": {},
          "execution_count": 4
        }
      ]
    },
    {
      "cell_type": "markdown",
      "source": [
        "量化是将输入值从大集合（通常是连续的）映射到较小集合（通常具有有限数量元素），舍入（用更短、更简单、更明确的近似值进行替换）和截断（限制小数点右边的位数）是典型的量化过程，量化构成了所有有损压缩算法的核心。输入值与量化值间的差异称为量化误差，执行量化的设备或算法功能称为量化器。"
      ],
      "metadata": {
        "id": "TDyNI9rwkGDs"
      }
    },
    {
      "cell_type": "markdown",
      "source": [
        "PQ（乘积量化）通过将向量空间分解为低位子空间的笛卡尔积，每个子空间独自进行量化，这样一个向量能够被子空间量化后的索引组成的短编码表示，两个向量间的L2距离可以通过量化后的编码进行估计。\n"
      ],
      "metadata": {
        "id": "lT2EKprr22w9"
      }
    },
    {
      "cell_type": "markdown",
      "source": [
        "定义$q$是一个量化函数，将D维向量$x \\in \\mathbb{R}^D$映射为向量$q(x) \\in C $，$C = \\{c_i;i \\in I \\}$是一个大小为k的编码簿， 其中$I = 0 ... k-1$是一个有限的索引集合，$c_i$被称为质心。\n",
        "\n",
        "将所有映射到同一索引$i$的向量划分为一个单元(Voronoi cell) $V_i$：\n",
        "\n",
        "$V_i \\mathop{=}\\limits^{Δ} \\{x ∈ \\mathbb{R}^D : q(x) = c_i \\}$，\n",
        "\n",
        "量化器的$k$个单元是向量空间$\\mathbb{R}^D$的一个分区，在同一个单元$V_i$中向量都被质心$c_i$重构（用质心$C_i$表示单元$V_i$特征），量化器的好坏可以用输入向量与其再现值$q(x)$间的均方误差(MSE)来度量，使用$d(x,y) = \\Vert x -y \\Vert$表示两个向量间的L2距离，$p(x)$表示随机变量$X$的概率分布函数，则其均方误差为：\n",
        "\n",
        "$MSE(q) = \\mathbb{E}_X[d(q(x),x)^2] = ∫ p(x) d(q(x),x)^2 dx$\n"
      ],
      "metadata": {
        "id": "htNST1Zh99y5"
      }
    },
    {
      "cell_type": "code",
      "source": [
        "from random import randint\n",
        "\n",
        "x = sentence_embeddings[0]\n",
        "\n",
        "D = len(x)\n",
        "k = 2**8"
      ],
      "metadata": {
        "id": "eRbua0HbZtDe"
      },
      "execution_count": 5,
      "outputs": []
    },
    {
      "cell_type": "code",
      "source": [
        "from scipy.spatial import distance\n",
        "\n",
        "# 找到最近的质心\n",
        "def nearest(x, c, k):\n",
        "  min_distance = 9e9\n",
        "  idx = -1\n",
        "\n",
        "  # 找到L2距离的质心\n",
        "  for i in range(k):\n",
        "    l2_distance = distance.euclidean(x,c[i])\n",
        "    if l2_distance < min_distance:\n",
        "      idx = i\n",
        "      min_distance = l2_distance\n",
        "  return idx"
      ],
      "metadata": {
        "id": "w8-M5k81cLC6"
      },
      "execution_count": 31,
      "outputs": []
    },
    {
      "cell_type": "code",
      "source": [
        "import numpy as np\n",
        "\n",
        "# 随机建立质心创建编码簿\n",
        "c = []\n",
        "for i in range(k):\n",
        "  c_i =  [randint(0, 9) for _ in range(D)]\n",
        "  c.append(c_i)\n",
        "\n",
        "# 测试向量x与其量化值c_i的均方误差\n",
        "i = nearest(x, c, k)\n",
        "mse = (np.square(x - c[i])).mean()\n",
        "mse"
      ],
      "metadata": {
        "colab": {
          "base_uri": "https://localhost:8080/"
        },
        "id": "a_ADKjgoclqU",
        "outputId": "90cecca9-cfaa-4d11-c600-580d3d8ba7b1"
      },
      "execution_count": 32,
      "outputs": [
        {
          "output_type": "execute_result",
          "data": {
            "text/plain": [
              "26.215924872355327"
            ]
          },
          "metadata": {},
          "execution_count": 32
        }
      ]
    },
    {
      "cell_type": "markdown",
      "source": [
        "为使量化器最优，需要满足劳埃德(Lloyd)最优条件：\n",
        "- 向量$x$需要被量化到最近的质心，以L2距离作为距离函数则：$q(x) = arg \\: \\mathop{min}\\limits_{c_i \\in C} d(x,c_i)$，这样单元间被超平面划分。\n",
        "- 质心必须是Voronoi单元中的向量的期望：$c_i = \\mathbb{E}_X[x|i] = \\int_{V_i} p(x) x dx$，劳埃德量化器迭代分配向量到质心并从分配后的向量集合中重新估计质心。"
      ],
      "metadata": {
        "id": "9LXzaoHGIbGe"
      }
    },
    {
      "cell_type": "code",
      "source": [
        "# 迭代估计质心\n",
        "def lloyd_estimate(cells,c,embeddings,k,ite_num):\n",
        "  # 按新质心重新分配向量\n",
        "  for i,v in enumerate(embeddings):\n",
        "    idx = nearest(v,c,k)\n",
        "    cells[idx].append(i)\n",
        "\n",
        "  end = True\n",
        "  # 遍历各单元，计算单元中向量的期望作为质心\n",
        "  for i,cell in enumerate(cells):\n",
        "    if len(cell) > 0:\n",
        "      cell_vectors = []\n",
        "      for idx in cell:\n",
        "        cell_vectors.append(embeddings[idx])\n",
        "      centroid = np.asarray(cell_vectors).mean(axis=0)\n",
        "\n",
        "      if np.all(c[i] != centroid):\n",
        "        c[i] = centroid\n",
        "        end = end & False\n",
        "      cells[i] = []\n",
        "\n",
        "  ite_num-=1\n",
        "  # 当所有单元质心不在变化或进行10次迭代后返回\n",
        "  if end or ite_num <= 0 :\n",
        "    return\n",
        "  lloyd_estimate(cells,c,embeddings,k,ite_num)"
      ],
      "metadata": {
        "id": "0sQKDWhGJA7k"
      },
      "execution_count": 44,
      "outputs": []
    },
    {
      "cell_type": "code",
      "source": [
        "# 重新估计质心\n",
        "c = np.random.randint(1, int(sentence_embeddings.max()+1), (k, D))\n",
        "cells = []\n",
        "for i in range(k):\n",
        "  cells.append([])\n",
        "\n",
        "lloyd_estimate(cells,c,sentence_embeddings[:4000],k,10)"
      ],
      "metadata": {
        "id": "VFm0MdzRjXpm"
      },
      "execution_count": 46,
      "outputs": []
    },
    {
      "cell_type": "code",
      "source": [
        "# 随机检查向量与其量化值得均方误差\n",
        "mses = []\n",
        "for i in range(10):\n",
        "  idx = randint(4000, len(sentence_embeddings))\n",
        "  x = sentence_embeddings[idx]\n",
        "  c_idx = nearest(x,c,k)\n",
        "  mse = (np.square(x - c[c_idx])).mean()\n",
        "  mses.append(mse)\n",
        "mses"
      ],
      "metadata": {
        "colab": {
          "base_uri": "https://localhost:8080/"
        },
        "id": "zDqAdGtUOP2r",
        "outputId": "1629579f-c4e1-4cdf-87c5-e0fd80134287"
      },
      "execution_count": null,
      "outputs": [
        {
          "output_type": "execute_result",
          "data": {
            "text/plain": [
              "[0.29019955,\n",
              " 0.24441962,\n",
              " 0.2279462,\n",
              " 0.24771214,\n",
              " 0.17429842,\n",
              " 0.2904201,\n",
              " 0.26517972,\n",
              " 0.15752667,\n",
              " 0.26137772,\n",
              " 0.25481856]"
            ]
          },
          "metadata": {},
          "execution_count": 144
        }
      ]
    },
    {
      "cell_type": "markdown",
      "source": [
        "当有大量向量时，我们需要增加质心数量以减小均方误差，假设要将一个128维的向量将其量化为64位的编码，则需要$k=2^{64}$个质心与编码对应，每个质心为128维浮点数，需要$D × k = 2^{64} \\times 128$个浮点值来存储质心，量化器的训练复杂度是$k=2^{64}$的好几倍，这样在内存进行向量量化是不可能的，乘积量化通过允许选择进行联合量化的组件数量来解决存储及复杂性问题。"
      ],
      "metadata": {
        "id": "kVl436rENvfL"
      }
    },
    {
      "cell_type": "markdown",
      "source": [
        "将输入向量$x$切分为$m$个不同的子向量$u_j, 1 ≤ j ≤ m$，子向量维度$D^* = D/m$，D是m的倍数，将子向量用m个不同量化器分别进行量化，$q_j$是第j个子向量使用的量化器，通过子量化器$q_j$关联索引集合$I_j$，对应到编码簿$C_j$及相应的质心$c_{j,i}$\n",
        "\n",
        "$ \\underbrace{x_1,...,x_{D^*},}_{u_1(x)} ...,\\underbrace{x_{D-D^*+1},...,x_D}_{u_m(x)} → q_1(u_1(x)),...,q_m(u_m(x))$"
      ],
      "metadata": {
        "id": "trwLVNwgzU5a"
      }
    },
    {
      "cell_type": "markdown",
      "source": [
        "乘积量器再现值由索引集合的笛卡尔积$I = I_1 × ... × I_m $确定，相应的编码簿为$C = C_1 × ... × C_m$，集合中的元素对应向量经m个子量化器处理后的质心，假设所有的子量化器有着有限个数$k^*$个再现值，总质心数$k = (k^*)^m$"
      ],
      "metadata": {
        "id": "_A6V5zxS4vIP"
      }
    },
    {
      "cell_type": "code",
      "source": [
        "# 子向量数量\n",
        "m = 8\n",
        "assert D % m == 0\n",
        "assert k % m == 0\n",
        "\n",
        "# 子向量纬度\n",
        "D_ = int(D/m)\n",
        "# 子编码簿大小\n",
        "k_ = 256\n",
        "k = k_*m"
      ],
      "metadata": {
        "id": "ssl-QNBldiEl"
      },
      "execution_count": 108,
      "outputs": []
    },
    {
      "cell_type": "code",
      "source": [
        "# 分割子向量\n",
        "embeddings_split = sentence_embeddings[:4000].reshape(-1, m, D_)\n",
        "# 生成随机编码簿\n",
        "c_s = np.random.randint(1, int(sentence_embeddings.max()+1), (m, k_, D_))\n",
        "\n",
        "cells = []\n",
        "# 训练量化器\n",
        "for i in range(m):\n",
        "  cells_i = []\n",
        "  for j in range(k_):\n",
        "    cells_i.append([])\n",
        "  lloyd_estimate(cells_i,c_s[i],embeddings_split[:,i],k_,10)\n",
        "  cells.append(cells_i)"
      ],
      "metadata": {
        "id": "dmUk1nSUsaep"
      },
      "execution_count": 109,
      "outputs": []
    },
    {
      "cell_type": "code",
      "source": [
        "def quantization(v):\n",
        "  u = v.reshape(m,D_)\n",
        "  ids = []\n",
        "  for j in range(m):\n",
        "    idx = nearest(u[j], c_s[j], k_)\n",
        "    ids.append(idx)\n",
        "  return ids"
      ],
      "metadata": {
        "id": "-1Jc_nIpbME3"
      },
      "execution_count": 110,
      "outputs": []
    },
    {
      "cell_type": "code",
      "source": [
        "# 随机检查向量与其量化值得均方误差\n",
        "mses = []\n",
        "for i in range(10):\n",
        "  v = sentence_embeddings[randint(4000, len(sentence_embeddings))]\n",
        "  ids = quantization(v)\n",
        "  q = []\n",
        "  for j,u in enumerate(ids):\n",
        "    q.extend(c_s[j][u])\n",
        "  mse = (np.square(v - q)).mean()\n",
        "  mses.append(mse)\n",
        "mses\n"
      ],
      "metadata": {
        "colab": {
          "base_uri": "https://localhost:8080/"
        },
        "id": "X2frgibsV-8W",
        "outputId": "d61c2972-2c64-4a0b-def4-2918b4d959c9"
      },
      "execution_count": 111,
      "outputs": [
        {
          "output_type": "execute_result",
          "data": {
            "text/plain": [
              "[0.380981887053842,\n",
              " 0.4341048530963336,\n",
              " 0.4512899091748843,\n",
              " 0.3886909160236625,\n",
              " 0.3901637690789534,\n",
              " 0.39566409304085,\n",
              " 0.4547152238554106,\n",
              " 0.3869116305323425,\n",
              " 0.45447499785218975,\n",
              " 0.43692690069642764]"
            ]
          },
          "metadata": {},
          "execution_count": 111
        }
      ]
    },
    {
      "cell_type": "markdown",
      "source": [
        "乘积量化的优势在于通过几个小的质心集合生成一个大的质心集合，只需要存储子量化器对应的$m \\times k^*$个质心，总计$mk^*D^*$个浮点值，即相应内存使用及复杂性为$mk^*D^* = k^{(1/m)}D $，相较其他量化方法k-means、HKM，PQ能够在内存中对较大k值得向量进行索引。"
      ],
      "metadata": {
        "id": "hy8iRHP7-13X"
      }
    },
    {
      "cell_type": "markdown",
      "source": [
        "在向量中连续的元素在结构上通常是相关的，最好使用同一个子量化器进行量化，由于子向量空间是正交的，量化器的均方误差可以表示为：\n",
        "\n",
        "$MSE(q) = \\mathop{\\sum}\\limits_{j} MSE(q_j) $\n",
        "\n",
        "更高的$k^*$会造成更高的计算复杂度，更大的内存占用，通常$k^* = 256,m = 8$是一个合理的选择。"
      ],
      "metadata": {
        "id": "iBe2E8qoUG8C"
      }
    },
    {
      "cell_type": "markdown",
      "source": [
        "有两种方法来计算查询向量与量化后向量的距离\n",
        "- 对称距离计算(SDC)：将查询向量也进行量化，计算量化后向量间的距离\n",
        "- 非对称距离计算(ADC)：不对查询向量量化，直接计算距离"
      ],
      "metadata": {
        "id": "i14PT9Bpb044"
      }
    },
    {
      "cell_type": "code",
      "source": [
        "quantization_res = []\n",
        "for i,v in enumerate(sentence_embeddings):\n",
        "  ids = quantization(v)\n",
        "  quantization_res.append(ids)"
      ],
      "metadata": {
        "id": "bigd7sTRgl8y"
      },
      "execution_count": 112,
      "outputs": []
    },
    {
      "cell_type": "code",
      "source": [
        "qi = randint(4000, len(sentence_embeddings))\n",
        "qv = sentence_embeddings[qi]\n",
        "q_ids = quantization(qv)\n",
        "\n",
        "all_dist = []\n",
        "for i,ids in enumerate(quantization_res):\n",
        "  dist = 0\n",
        "  for j,id in enumerate(ids):\n",
        "    dist+=distance.euclidean(c_s[j][id], c_s[j][q_ids[j]])\n",
        "  all_dist.append((dist,i))"
      ],
      "metadata": {
        "id": "5c1ITcs0RgMq"
      },
      "execution_count": 113,
      "outputs": []
    },
    {
      "cell_type": "code",
      "source": [
        "all_dist.sort()\n",
        "\n",
        "print('查询:', sentences[qi])\n",
        "for d,idx in all_dist[:5]:\n",
        "  print('   L2距离:',d,'匹配:',sentences[idx] )"
      ],
      "metadata": {
        "colab": {
          "base_uri": "https://localhost:8080/"
        },
        "id": "MQxLc5pzqiWm",
        "outputId": "4e10a2ac-8a5c-4440-ad72-e1195fa31a80"
      },
      "execution_count": 114,
      "outputs": [
        {
          "output_type": "stream",
          "name": "stdout",
          "text": [
            "查询: 子宫分为哪三种型?医学上是怎样区分A型B型和C型的?C型是代表最 \n",
            "   L2距离: 0.0 匹配: SS的困惑不知道大家看没看今天官网上发布的新技能，SS以后打架还 \n",
            "   L2距离: 0.0 匹配: 不是处女了，但想珍惜眼前的好男人！我该怎么办？我在大学时候有一个 \n",
            "   L2距离: 0.0 匹配: 比如我是我是2转的勇战工我有15000的血敌人也是15000的血? \n",
            "   L2距离: 0.0 匹配: 感情的困惑我的父母给我介绍个老头当对象怎么办？我今年都30了，离 \n",
            "   L2距离: 0.0 匹配: 宝宝排便问题我家宝宝14个月了,可是现在拉大便不愿被人把,非要自 \n"
          ]
        }
      ]
    }
  ]
}