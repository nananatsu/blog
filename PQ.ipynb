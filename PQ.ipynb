{
  "nbformat": 4,
  "nbformat_minor": 0,
  "metadata": {
    "colab": {
      "provenance": [],
      "authorship_tag": "ABX9TyNgfXovVbfFEOAxdQbyiig4",
      "include_colab_link": true
    },
    "kernelspec": {
      "name": "python3",
      "display_name": "Python 3"
    },
    "language_info": {
      "name": "python"
    }
  },
  "cells": [
    {
      "cell_type": "markdown",
      "metadata": {
        "id": "view-in-github",
        "colab_type": "text"
      },
      "source": [
        "<a href=\"https://colab.research.google.com/github/nananatsu/blog/blob/master/PQ.ipynb\" target=\"_parent\"><img src=\"https://colab.research.google.com/assets/colab-badge.svg\" alt=\"Open In Colab\"/></a>"
      ]
    },
    {
      "cell_type": "markdown",
      "source": [
        "准备测试数据"
      ],
      "metadata": {
        "id": "_c0D6I-_wF8f"
      }
    },
    {
      "cell_type": "code",
      "execution_count": null,
      "metadata": {
        "id": "YxtYY93ev_iA",
        "colab": {
          "base_uri": "https://localhost:8080/"
        },
        "outputId": "f86b32b3-2b97-4997-ae8c-dac135b112d8"
      },
      "outputs": [
        {
          "output_type": "stream",
          "name": "stdout",
          "text": [
            "Mounted at /content/drive/\n",
            "Archive:  /content/drive/MyDrive/train_data/baike2018qa.zip\n",
            "  inflating: mydata/baike_qa_train.json  \n",
            "  inflating: mydata/baike_qa_valid.json  \n"
          ]
        }
      ],
      "source": [
        "from google.colab import drive\n",
        "\n",
        "drive.mount('/content/drive/')\n",
        "\n",
        "!mkdir -p mydata\n",
        "!unzip /content/drive/MyDrive/train_data/baike2018qa.zip -d mydata"
      ]
    },
    {
      "cell_type": "code",
      "source": [
        "%pip install numpy pandas scipy sentence-transformers torch faiss-gpu"
      ],
      "metadata": {
        "id": "pX_NUsN2wCGZ"
      },
      "execution_count": null,
      "outputs": []
    },
    {
      "cell_type": "code",
      "source": [
        "import pandas as pd\n",
        "\n",
        "data = pd.read_json('./mydata/baike_qa_train.json', lines=True, nrows=5000)\n",
        "\n",
        "sentences = data['title']"
      ],
      "metadata": {
        "id": "BUwVYf42wDvo"
      },
      "execution_count": null,
      "outputs": []
    },
    {
      "cell_type": "code",
      "source": [
        "from sentence_transformers import SentenceTransformer\n",
        "\n",
        "model = SentenceTransformer('DMetaSoul/sbert-chinese-general-v2')\n",
        "sentence_embeddings = model.encode(sentences)\n",
        "\n",
        "sentence_embeddings.shape"
      ],
      "metadata": {
        "colab": {
          "base_uri": "https://localhost:8080/"
        },
        "id": "p-7EyP8-XjqT",
        "outputId": "205a2754-e070-41c3-cdac-71ac793f0812"
      },
      "execution_count": null,
      "outputs": [
        {
          "output_type": "execute_result",
          "data": {
            "text/plain": [
              "(5000, 768)"
            ]
          },
          "metadata": {},
          "execution_count": 13
        }
      ]
    },
    {
      "cell_type": "markdown",
      "source": [
        "量化是将输入值从大集合（通常是连续的）映射到较小集合（通常具有有限数量元素），舍入（用更短、更简单、更明确的近似值进行替换）和截断（限制小数点右边的位数）是典型的量化过程，量化构成了所有有损压缩算法的核心。输入值与量化值间的差异称为量化误差，执行量化的设备或算法功能称为量化器。"
      ],
      "metadata": {
        "id": "TDyNI9rwkGDs"
      }
    },
    {
      "cell_type": "markdown",
      "source": [
        "PQ（乘积量化）通过将向量空间分解为低位子空间的笛卡尔积，每个子空间独自进行量化，这样一个向量能够被子空间量化后的索引组成的短编码表示，两个向量间的L2距离可以通过量化后的编码进行估计。\n"
      ],
      "metadata": {
        "id": "lT2EKprr22w9"
      }
    },
    {
      "cell_type": "markdown",
      "source": [
        "定义$q$是一个量化函数，将D维向量$x \\in \\mathbb{R}^D$映射为向量$q(x) \\in C $，$C = \\{c_i;i \\in I \\}$是一个大小为k的编码簿， 其中$I = 0 ... k-1$是一个有限的索引集合，$c_i$被称为质心。\n",
        "\n",
        "将所有映射到同一索引$i$的向量划分为一个单元(Voronoi cell) $V_i$：\n",
        "\n",
        "$V_i \\mathop{=}\\limits^{Δ} \\{x ∈ \\mathbb{R}^D : q(x) = c_i \\}$，\n",
        "\n",
        "量化器的$k$个单元是向量空间$\\mathbb{R}^D$的一个分区，在同一个单元$V_i$中向量可以使用同一个质心$c_i$进行重构，量化器的好坏可以用输入向量与其再现值$q(x)$间的均方误差(MSE)来度量，使用$d(x,y) = \\Vert x -y \\Vert$表示两个向量间的L2距离，$p(x)$表示随机变量$X$的概率分布函数，则其均方误差为：\n",
        "\n",
        "$MSE(q) = \\mathbb{E}_X[d(q(x),x)^2] = ∫ p(x) d(q(x),x)^2 dx$\n"
      ],
      "metadata": {
        "id": "htNST1Zh99y5"
      }
    },
    {
      "cell_type": "code",
      "source": [
        "x = sentence_embeddings[0]\n",
        "\n",
        "D = len(x)\n",
        "k = 2**5\n",
        "c = []\n",
        "for i in range(k):\n",
        "  c_i =  [randint(0, 9) for _ in range(D)]\n",
        "  c.append(c_i)"
      ],
      "metadata": {
        "id": "eRbua0HbZtDe"
      },
      "execution_count": null,
      "outputs": []
    },
    {
      "cell_type": "code",
      "source": [
        "from scipy.spatial import distance\n",
        "\n",
        "min_distance = 9e9\n",
        "idx = -1\n",
        "for i in range(k):\n",
        "  l2_distance = distance.euclidean(x,c[i])\n",
        "  if l2_distance < min_distance:\n",
        "    idx = i\n",
        "    min_distance = l2_distance\n",
        "idx"
      ],
      "metadata": {
        "colab": {
          "base_uri": "https://localhost:8080/"
        },
        "id": "w8-M5k81cLC6",
        "outputId": "dc49bffb-47ed-49c5-91da-5c74e38ef966"
      },
      "execution_count": null,
      "outputs": [
        {
          "output_type": "execute_result",
          "data": {
            "text/plain": [
              "5"
            ]
          },
          "metadata": {},
          "execution_count": 24
        }
      ]
    },
    {
      "cell_type": "code",
      "source": [
        "import numpy as np\n",
        "\n",
        "mse = (np.square(x - c[idx])).mean()\n",
        "\n",
        "mse"
      ],
      "metadata": {
        "colab": {
          "base_uri": "https://localhost:8080/"
        },
        "id": "a_ADKjgoclqU",
        "outputId": "46b7008b-d9c2-4b8d-f61a-8b0053920cb0"
      },
      "execution_count": null,
      "outputs": [
        {
          "output_type": "execute_result",
          "data": {
            "text/plain": [
              "27.457359910837244"
            ]
          },
          "metadata": {},
          "execution_count": 25
        }
      ]
    },
    {
      "cell_type": "markdown",
      "source": [
        "为使量化器最优，需要满足劳埃德(Lloyd)最优条件：\n",
        "- 向量$x$需要被量化到最近的质心，以L2距离作为距离函数则：$q(x) = arg \\: \\mathop{min}\\limits_{c_i \\in C} d(x,c_i)$，这样单元间被超平面划分。\n",
        "- 质心必须是Voronoi单元中的向量的期望：$c_i = \\mathbb{E}_X[x|i] = \\int_{V_i} p(x) x dx$，劳埃德量化器迭代分配向量到质心并从分配后的向量集合中重新估计质心。"
      ],
      "metadata": {
        "id": "9LXzaoHGIbGe"
      }
    },
    {
      "cell_type": "markdown",
      "source": [
        "当从质心重建单元$V_i$中的向量时，使用均方失真来评估量化器好坏，$p_i = \\mathbb{P}(q(x) = c_i)$表示向量$x$被分配到质心$c_i$的概率，则均方失真为：\n",
        "\n",
        "$ξ(q,c_i) = \\frac{1}{p_i}\\int_{V_i}d(x,q(x))^2 p(x) dx$\n",
        "\n",
        "均方误差可以使用均方失真得出：\n",
        "\n",
        "$MSE(q) = \\mathop{\\sum}\\limits_{i \\in I} p_i ξ(q,c_i) $\n",
        "\n"
      ],
      "metadata": {
        "id": "8CR95aaJtWnz"
      }
    },
    {
      "cell_type": "markdown",
      "source": [
        "假设要将一个128维的向量将其量化为64位的编码，需要$k=2^{64}$个质心，量化不改变向量维数，则需要存储$D × k = 2^{64} \\times 128$个浮点值来表示质心，这使得在内存进行向量量化存在困难。乘积量化是通过允许选择进行联合量化的组件数量来解决存储及复杂性问题。"
      ],
      "metadata": {
        "id": "kVl436rENvfL"
      }
    },
    {
      "cell_type": "markdown",
      "source": [
        "将输入向量$x$切分为$m$个不同的子向量$u_j, 1 ≤ j ≤ m$，子向量维度$D^* = D/m$，D是m的倍数，将子向量用m个不同量化器分别进行量化，$q_j$是第j个子向量使用的量化器，通过子量化器$q_j$关联索引集合$I_j$，对应到编码簿$C_j$及相应的质心$c_{j,i}$\n",
        "\n",
        "$ \\underbrace{x_1,...,x_{D^*},}_{u_1(x)} ...,\\underbrace{x_{D-D^*+1},...,x_D}_{u_m(x)} → q_1(u_1(x)),...,q_m(u_m(x))$"
      ],
      "metadata": {
        "id": "trwLVNwgzU5a"
      }
    },
    {
      "cell_type": "markdown",
      "source": [
        "乘积量器再现值由索引集合的笛卡尔积$I = I_1 × ... × I_m $确定，相应的编码簿为$C = C_1 × ... × C_m$，集合中的元素对应向量经m个子量化器处理后的质心，假设所有的子量化器有着有限个数$k^*$个再现值，总质心数$k = (k^*)^m$"
      ],
      "metadata": {
        "id": "_A6V5zxS4vIP"
      }
    },
    {
      "cell_type": "code",
      "source": [
        "x = [1, 8, 3, 9, 1, 2, 9, 4, 5, 4, 6, 2]\n",
        "\n",
        "m = 4\n",
        "D = len(x)\n",
        "\n",
        "assert D % m == 0\n",
        "\n",
        "D_ = int(D / m)\n",
        "\n",
        "u = [x[row:row+D_] for row in range(0, D, D_)]\n",
        "u"
      ],
      "metadata": {
        "colab": {
          "base_uri": "https://localhost:8080/"
        },
        "id": "ssl-QNBldiEl",
        "outputId": "2835028c-f9a2-493b-d224-6b0ba0c46b03"
      },
      "execution_count": null,
      "outputs": [
        {
          "output_type": "execute_result",
          "data": {
            "text/plain": [
              "[[1, 8, 3], [9, 1, 2], [9, 4, 5], [4, 6, 2]]"
            ]
          },
          "metadata": {},
          "execution_count": 1
        }
      ]
    },
    {
      "cell_type": "code",
      "source": [
        "k = 2**5\n",
        "assert k % m == 0\n",
        "k_ = int(k/m)\n",
        "print(f\"{k=}, {k_=}\")"
      ],
      "metadata": {
        "colab": {
          "base_uri": "https://localhost:8080/"
        },
        "id": "WKdUXCp3eJQL",
        "outputId": "421b8a10-c782-4aa0-9c52-ead20bfc2a9f"
      },
      "execution_count": null,
      "outputs": [
        {
          "output_type": "stream",
          "name": "stdout",
          "text": [
            "k=32, k_=8\n"
          ]
        }
      ]
    },
    {
      "cell_type": "code",
      "source": [
        "from random import randint\n",
        "\n",
        "c = []  # 编码簿，存储所有可能质心\n",
        "for j in range(m):\n",
        "    # j 表示子向量（量化器）位置\n",
        "    c_j = []\n",
        "    for i in range(k_):\n",
        "        # i 表示子向量空间中聚类/再现值位置\n",
        "        c_ji = [randint(0, 9) for _ in range(D_)]\n",
        "        c_j.append(c_ji)  # 添加聚类质心到子编码簿\n",
        "    # 将子编码簿添加到编码簿\n",
        "    c.append(c_j)\n",
        "c"
      ],
      "metadata": {
        "colab": {
          "base_uri": "https://localhost:8080/"
        },
        "id": "5dYmPBkYeV84",
        "outputId": "d264452d-29f8-48a6-a67a-1d4e9af307eb"
      },
      "execution_count": null,
      "outputs": [
        {
          "output_type": "execute_result",
          "data": {
            "text/plain": [
              "[[[2, 1, 1],\n",
              "  [1, 0, 5],\n",
              "  [7, 7, 1],\n",
              "  [3, 2, 8],\n",
              "  [5, 0, 8],\n",
              "  [7, 7, 0],\n",
              "  [1, 0, 2],\n",
              "  [5, 7, 5]],\n",
              " [[1, 8, 3],\n",
              "  [8, 9, 4],\n",
              "  [4, 4, 1],\n",
              "  [5, 6, 0],\n",
              "  [2, 8, 3],\n",
              "  [8, 2, 5],\n",
              "  [3, 1, 0],\n",
              "  [0, 2, 7]],\n",
              " [[0, 9, 7],\n",
              "  [6, 4, 1],\n",
              "  [8, 3, 8],\n",
              "  [8, 1, 6],\n",
              "  [0, 6, 5],\n",
              "  [7, 8, 6],\n",
              "  [9, 9, 1],\n",
              "  [0, 0, 5]],\n",
              " [[4, 8, 9],\n",
              "  [1, 9, 3],\n",
              "  [8, 6, 8],\n",
              "  [2, 8, 6],\n",
              "  [3, 6, 9],\n",
              "  [2, 1, 1],\n",
              "  [2, 2, 5],\n",
              "  [1, 5, 6]]]"
            ]
          },
          "metadata": {},
          "execution_count": 3
        }
      ]
    },
    {
      "cell_type": "code",
      "source": [
        "def euclidean(v, u):\n",
        "    distance = sum((x - y) ** 2 for x, y in zip(v, u)) ** .5\n",
        "    return distance\n",
        "\n",
        "def nearest(c_j, u_j):\n",
        "    distance = 9e9\n",
        "    for i in range(k_):\n",
        "        new_dist = euclidean(c_j[i], u_j)\n",
        "        if new_dist < distance:\n",
        "            nearest_idx = i\n",
        "            distance = new_dist\n",
        "    return nearest_idx"
      ],
      "metadata": {
        "id": "ze62OrJaVq1m"
      },
      "execution_count": null,
      "outputs": []
    },
    {
      "cell_type": "code",
      "source": [
        "ids = []\n",
        "for j in range(m):\n",
        "    i = nearest(c[j], u[j])\n",
        "    ids.append(i)\n",
        "ids"
      ],
      "metadata": {
        "colab": {
          "base_uri": "https://localhost:8080/"
        },
        "id": "X2frgibsV-8W",
        "outputId": "ab592512-9739-4d78-9c9e-7f2d15b3c1e0"
      },
      "execution_count": null,
      "outputs": [
        {
          "output_type": "execute_result",
          "data": {
            "text/plain": [
              "[7, 5, 2, 1]"
            ]
          },
          "metadata": {},
          "execution_count": 5
        }
      ]
    },
    {
      "cell_type": "code",
      "source": [
        "q = []\n",
        "for j in range(m):\n",
        "    c_ji = c[j][ids[j]]\n",
        "    q.extend(c_ji)"
      ],
      "metadata": {
        "id": "tLQ3FgfIWMbF"
      },
      "execution_count": null,
      "outputs": []
    },
    {
      "cell_type": "code",
      "source": [
        "q"
      ],
      "metadata": {
        "colab": {
          "base_uri": "https://localhost:8080/"
        },
        "id": "oz3sNiuLWPnx",
        "outputId": "728b49ab-5b86-4be7-9148-ae961d501622"
      },
      "execution_count": null,
      "outputs": [
        {
          "output_type": "execute_result",
          "data": {
            "text/plain": [
              "[5, 7, 5, 8, 2, 5, 8, 3, 8, 1, 9, 3]"
            ]
          },
          "metadata": {},
          "execution_count": 7
        }
      ]
    },
    {
      "cell_type": "code",
      "source": [
        "def mse(v, u):\n",
        "    error = sum((x - y) ** 2 for x, y in zip(v, u)) / len(v)\n",
        "    return error"
      ],
      "metadata": {
        "id": "gizLqhp1Wg1s"
      },
      "execution_count": null,
      "outputs": []
    },
    {
      "cell_type": "code",
      "source": [
        "mse(x, q)"
      ],
      "metadata": {
        "colab": {
          "base_uri": "https://localhost:8080/"
        },
        "id": "UC1MqGrgWh6V",
        "outputId": "ea8e41a4-3f3d-4016-88cd-79f7f6bfe9bb"
      },
      "execution_count": null,
      "outputs": [
        {
          "output_type": "execute_result",
          "data": {
            "text/plain": [
              "5.166666666666667"
            ]
          },
          "metadata": {},
          "execution_count": 9
        }
      ]
    },
    {
      "cell_type": "markdown",
      "source": [
        "乘积量化的优势在于通过几个小的质心集合生成一个大的质心集合，只需要存储子量化器对应的$m \\times k^*$个质心，总计$mk^*D^*$个浮点值，即相应内存使用及复杂性为$mk^*D^* = k^{(1/m)}D $，相较其他量化方法k-means、HKM，PQ能够在内存中对较大k值得向量进行索引。"
      ],
      "metadata": {
        "id": "hy8iRHP7-13X"
      }
    },
    {
      "cell_type": "markdown",
      "source": [
        "在向量中连续的元素在结构上通常是相关的，最好使用同一个子量化器进行量化，由于子向量空间是正交的，量化器的均方失真可以表示为：\n",
        "\n",
        "$MSE(q) = \\mathop{\\sum}\\limits_{j} MSE(q_j) $\n",
        "\n",
        "更高的$k^*$会造成更高的计算复杂度，更大的内存占用，通常$k^* = 256,m = 8$是一个合理的选择。"
      ],
      "metadata": {
        "id": "iBe2E8qoUG8C"
      }
    },
    {
      "cell_type": "markdown",
      "source": [
        "有两种方法来计算查询向量与量化后向量的距离\n",
        "- 对称距离计算(SDC)：将查询向量也进行量化，计算量化后向量间的距离\n",
        "- 非对称距离计算(ADC)：不对查询向量量化，直接计算距离"
      ],
      "metadata": {
        "id": "i14PT9Bpb044"
      }
    }
  ]
}