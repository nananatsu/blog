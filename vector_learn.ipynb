{
  "nbformat": 4,
  "nbformat_minor": 0,
  "metadata": {
    "colab": {
      "provenance": [],
      "authorship_tag": "ABX9TyNOEqbgpKwU/Iq/rk0k0YWv",
      "include_colab_link": true
    },
    "kernelspec": {
      "name": "python3",
      "display_name": "Python 3"
    },
    "language_info": {
      "name": "python"
    }
  },
  "cells": [
    {
      "cell_type": "markdown",
      "metadata": {
        "id": "view-in-github",
        "colab_type": "text"
      },
      "source": [
        "<a href=\"https://colab.research.google.com/github/nananatsu/blog/blob/master/vector_learn.ipynb\" target=\"_parent\"><img src=\"https://colab.research.google.com/assets/colab-badge.svg\" alt=\"Open In Colab\"/></a>"
      ]
    },
    {
      "cell_type": "markdown",
      "source": [
        "## 向量搜索学习笔记\n",
        "\n",
        " 通过统计方法或机器学习，能够将现实世界的对象、概念转为向量表示， 再通过向量间的距离来判断它们的相似度。\n",
        " \n"
      ],
      "metadata": {
        "id": "Sby7SB9T448o"
      }
    },
    {
      "cell_type": "markdown",
      "source": [
        "向量有两种表示方法：[1.0,0.2,0.4,1.2,4.5,3.4]\n",
        "- 稀疏向量，大部分元素0，少部分元素非0，如： [1.0,0,0,0,0,3.4]\n",
        "  - 可以用三个分量来表示稀疏向量，减少存储所需空间\n",
        "    -  向量大小\n",
        "    -  非0元素的索引\n",
        "    -  非0元素的值"
      ],
      "metadata": {
        "id": "f4oe9vPf9Tv8"
      }
    },
    {
      "cell_type": "code",
      "source": [
        "%pip install pyspark"
      ],
      "metadata": {
        "id": "7adZghM-_i3d"
      },
      "execution_count": null,
      "outputs": []
    },
    {
      "cell_type": "code",
      "source": [
        "from pyspark.ml.linalg import Vector, DenseVector, SparseVector"
      ],
      "metadata": {
        "id": "sHAZkUhV_hYA"
      },
      "execution_count": null,
      "outputs": []
    },
    {
      "cell_type": "code",
      "source": [
        "dv =DenseVector([1.0,0.2,0.4,1.2,4.5,3.4])\n",
        "dv"
      ],
      "metadata": {
        "colab": {
          "base_uri": "https://localhost:8080/"
        },
        "id": "8C6vtvbA9d7O",
        "outputId": "c464b922-1048-42d2-929a-aaea8d6db8b9"
      },
      "execution_count": null,
      "outputs": [
        {
          "output_type": "execute_result",
          "data": {
            "text/plain": [
              "DenseVector([1.0, 0.2, 0.4, 1.2, 4.5, 3.4])"
            ]
          },
          "metadata": {},
          "execution_count": 7
        }
      ]
    },
    {
      "cell_type": "code",
      "source": [
        "sv = SparseVector(6, {0:1.0, 5:3.4})\n",
        "sv"
      ],
      "metadata": {
        "colab": {
          "base_uri": "https://localhost:8080/"
        },
        "id": "arZPdRtkAo4Y",
        "outputId": "65a0840a-4b9d-4b3e-ef23-bc6546ce61f4"
      },
      "execution_count": null,
      "outputs": [
        {
          "output_type": "execute_result",
          "data": {
            "text/plain": [
              "SparseVector(6, {0: 1.0, 5: 3.4})"
            ]
          },
          "metadata": {},
          "execution_count": 8
        }
      ]
    },
    {
      "cell_type": "markdown",
      "source": [
        " 常见相似度/距离计算方式：\n"
      ],
      "metadata": {
        "id": "-m3JnTWE9Zza"
      }
    },
    {
      "cell_type": "code",
      "source": [
        "%pip install scipy"
      ],
      "metadata": {
        "id": "8_aF2S32Bsjt"
      },
      "execution_count": null,
      "outputs": []
    },
    {
      "cell_type": "code",
      "source": [
        "from scipy.spatial import distance"
      ],
      "metadata": {
        "id": "LAv_DvcpCQAY"
      },
      "execution_count": null,
      "outputs": []
    },
    {
      "cell_type": "markdown",
      "source": [
        " - 欧几里得距离（Euclidean Distance，欧氏距离），连接两点的直线距离，最常用的距离度量，随维度较增加适用性下降。\n",
        "  \n",
        "  $D(x,y) = (\\mathop{∑}\\limits_{i=1}^{n} (x_i - y_i)^2)^{1/2}$\n",
        "\n"
      ],
      "metadata": {
        "id": "hDeIv5idBp5i"
      }
    },
    {
      "cell_type": "code",
      "source": [],
      "metadata": {
        "id": "W6PpCLBPKAS3"
      },
      "execution_count": null,
      "outputs": []
    },
    {
      "cell_type": "code",
      "source": [
        "distance.euclidean([1, 0, 0], [0, 1, 0]) # 1.4142135623730951"
      ],
      "metadata": {
        "colab": {
          "base_uri": "https://localhost:8080/"
        },
        "id": "kXXahcBuB5CI",
        "outputId": "3824edef-b743-44aa-a144-0c67d3a05559"
      },
      "execution_count": null,
      "outputs": [
        {
          "output_type": "execute_result",
          "data": {
            "text/plain": [
              "1.4142135623730951"
            ]
          },
          "metadata": {},
          "execution_count": 11
        }
      ]
    },
    {
      "cell_type": "markdown",
      "source": [
        "- 余弦相似度（Cosine Similarity），两个向量夹角的余弦，将向量归一化后等同于其内积，只考虑了向量的方向，没有考虑向量大小，向量间的差异没有充分考虑。\n",
        "\n",
        "   $D(x,y) = cos(θ) = \\frac{ x \\cdot y} { \\Vert x  \\Vert  \\Vert y  \\Vert} = \\frac{\\mathop{∑}\\limits_{i=1}^{n}  x_i × y_i} {\\sqrt{\\mathop{∑}\\limits_{i=1}^{n}  x_i ^2}×\\sqrt{\\mathop{∑}\\limits_{i=1}^{n}  y_i ^2}} $\n",
        "\n",
        "\n",
        "  "
      ],
      "metadata": {
        "id": "vHINh5v4B3Dj"
      }
    },
    {
      "cell_type": "code",
      "source": [
        "distance.cosine([1, 0, 0], [0, 1, 0])  # 1.0"
      ],
      "metadata": {
        "colab": {
          "base_uri": "https://localhost:8080/"
        },
        "id": "1dBk0yunGQnK",
        "outputId": "d22901d5-7f33-42e0-acce-c4000b169e97"
      },
      "execution_count": null,
      "outputs": [
        {
          "output_type": "execute_result",
          "data": {
            "text/plain": [
              "1.0"
            ]
          },
          "metadata": {},
          "execution_count": 13
        }
      ]
    },
    {
      "cell_type": "markdown",
      "source": [
        "- 曼哈顿距离（Manhattan Distance），计算实值向量间的距离，将平面网格化，向量只能水平或垂直移动得到的距离，在高维数据中不够直观，因为不是直线距离，给出的距离可能比欧几里得距离大。\n",
        "  \n",
        "   $ D(x,y) = \\mathop{∑}\\limits_{i=1}^{n}  \\vert x_i - y_i  \\vert $ \n",
        "\n",
        " "
      ],
      "metadata": {
        "id": "L6V54SAhCkVU"
      }
    },
    {
      "cell_type": "code",
      "source": [
        "distance.cityblock([1, 0, 0], [0, 1, 0])  # 2"
      ],
      "metadata": {
        "colab": {
          "base_uri": "https://localhost:8080/"
        },
        "id": "y7hn5Mo3Gy4G",
        "outputId": "b208dfe9-42d7-4e8b-cb7c-5c66c205bf47"
      },
      "execution_count": null,
      "outputs": [
        {
          "output_type": "execute_result",
          "data": {
            "text/plain": [
              "2"
            ]
          },
          "metadata": {},
          "execution_count": 20
        }
      ]
    },
    {
      "cell_type": "markdown",
      "source": [
        " - 切比雪夫距离（Chebyshev Distance），两个向量对应维的数据差值最大值，即沿着坐标轴计算的最大距离，适用场景特殊，一般不推荐使用。\n",
        "  \n",
        "   $D(x,y) = \\mathop{max}\\limits_{i} ( \\vert x_i - y_i \\vert )  = \\mathop{lim} \\limits_{k \\to ∞ } ( \\mathop{∑}\\limits_{i=1}^{n}  \\vert  x_i - y_i \\vert ^k  ) ^ {1/k} $\n",
        "\n"
      ],
      "metadata": {
        "id": "Lq3tEaPoCpSS"
      }
    },
    {
      "cell_type": "code",
      "source": [
        "distance.chebyshev([1, 0, 0], [0, 1, 0]) # 1"
      ],
      "metadata": {
        "colab": {
          "base_uri": "https://localhost:8080/"
        },
        "id": "TMAFsdMIHf-1",
        "outputId": "fa573c53-e6a4-43dd-e8b1-d78a1856af52"
      },
      "execution_count": null,
      "outputs": [
        {
          "output_type": "execute_result",
          "data": {
            "text/plain": [
              "1"
            ]
          },
          "metadata": {},
          "execution_count": 21
        }
      ]
    },
    {
      "cell_type": "markdown",
      "source": [
        "  - 闵可夫斯基距离（Minkowski，闵氏距离），是欧几里得距离或曼哈顿距离的推广，$p$为1时为曼哈顿距离、$p$为2时为欧几里得距离、$p$为$∞$时为切比雪夫距离。\n",
        "     \n",
        "       $D(x,y) = (\\mathop{∑}\\limits_{i=1}^{n}  \\vert x_i - y_i  \\vert ^ p ) ^ {1/p} $\n",
        "    \n",
        " "
      ],
      "metadata": {
        "id": "lacLzfsOCuqV"
      }
    },
    {
      "cell_type": "code",
      "source": [
        "distance.minkowski([1, 0, 0], [0, 1, 0], 1) # 2.0"
      ],
      "metadata": {
        "colab": {
          "base_uri": "https://localhost:8080/"
        },
        "id": "YUpGhtG3HvfQ",
        "outputId": "5836110e-c0c9-4af4-c367-0632ebe56a68"
      },
      "execution_count": null,
      "outputs": [
        {
          "output_type": "execute_result",
          "data": {
            "text/plain": [
              "2.0"
            ]
          },
          "metadata": {},
          "execution_count": 22
        }
      ]
    },
    {
      "cell_type": "code",
      "source": [
        "distance.minkowski([1, 0, 0], [0, 1, 0], 2) # 1.4142135623730951"
      ],
      "metadata": {
        "colab": {
          "base_uri": "https://localhost:8080/"
        },
        "id": "IKuQ2_jUH6rG",
        "outputId": "5fad0d5f-6d93-4a46-d048-37120ad1f547"
      },
      "execution_count": null,
      "outputs": [
        {
          "output_type": "execute_result",
          "data": {
            "text/plain": [
              "1.4142135623730951"
            ]
          },
          "metadata": {},
          "execution_count": 23
        }
      ]
    },
    {
      "cell_type": "code",
      "source": [
        "distance.minkowski([1, 0, 0], [0, 1, 0], 3) # 1.2599210498948732"
      ],
      "metadata": {
        "colab": {
          "base_uri": "https://localhost:8080/"
        },
        "id": "Ex8-obvqH_Tq",
        "outputId": "109dfdce-f7d8-4587-ca4c-37b8a15fd5c3"
      },
      "execution_count": null,
      "outputs": [
        {
          "output_type": "execute_result",
          "data": {
            "text/plain": [
              "1.2599210498948732"
            ]
          },
          "metadata": {},
          "execution_count": 26
        }
      ]
    },
    {
      "cell_type": "markdown",
      "source": [
        " - 雅卡尔指数（Jaccard Index），样本交集大小除以并集大小，从1减去雅卡尔指数得到雅卡尔距离，受数据集大小影响很大。\n",
        "  \n",
        "  $D(x,y) = 1 - \\frac{ \\vert  x \\bigcap y \\vert }{ \\vert  x \\bigcup y \\vert }  = 1 -  \\frac{  x \\cdot y }{ \\Vert x \\Vert ^2 + \\Vert y \\Vert ^2  -   x \\cdot y }  = 1- \\frac{ \\mathop{∑}\\limits_{i=1}^{n} x_i \\times y_i }{   \\mathop{∑}\\limits_{i=1}^{n} x_i^2 + \\mathop{∑}\\limits_{i=1}^{n} y_i^2 -  \\mathop{∑}\\limits_{i=1}^{n} x_i \\times y_i   }$ \n",
        "\n"
      ],
      "metadata": {
        "id": "BBfuOMU5Cyxj"
      }
    },
    {
      "cell_type": "code",
      "source": [
        "distance.jaccard([1, 0, 0], [0, 1, 0]) # 1.0"
      ],
      "metadata": {
        "colab": {
          "base_uri": "https://localhost:8080/"
        },
        "id": "SAbD0VNxIThF",
        "outputId": "eefaaf4f-d6b1-48f7-c3d8-ef85d437ab47"
      },
      "execution_count": null,
      "outputs": [
        {
          "output_type": "execute_result",
          "data": {
            "text/plain": [
              "1.0"
            ]
          },
          "metadata": {},
          "execution_count": 27
        }
      ]
    },
    {
      "cell_type": "markdown",
      "source": [
        "  - 戴斯系数（Sørensen-Dice Index），与雅卡尔指数十分相似，可以视为两个集合的重叠率，相应差异函数1-戴斯系数没有三角形不等性质，不适合作为距离度量，戴斯系数在异构数据集中保持敏感，能够降低异常值的权重。\n",
        "  \n",
        "   $D(x,y) = \\frac{ 2 \\vert  x \\bigcap y \\vert }{ \\vert  x   \\vert +  \\vert  y \\vert }   =  \\frac{ 2  \\vert x \\cdot y \\vert }{ \\Vert x \\Vert ^2 + \\Vert y \\Vert ^2  }  =\\frac{ 2 \\mathop{∑}\\limits_{i=1}^{n} x_i \\times y_i }{   \\mathop{∑}\\limits_{i=1}^{n} x_i^2 + \\mathop{∑}\\limits_{i=1}^{n} y_i^2 } $\n",
        "\n"
      ],
      "metadata": {
        "id": "SKUFGkDHC17O"
      }
    },
    {
      "cell_type": "code",
      "source": [
        "distance.dice([1, 0, 0], [0, 1, 0]) #1.0"
      ],
      "metadata": {
        "colab": {
          "base_uri": "https://localhost:8080/"
        },
        "id": "MTO5tbB3Id6Z",
        "outputId": "3afac225-1a1d-41ac-f2be-49d071ebcf06"
      },
      "execution_count": null,
      "outputs": [
        {
          "output_type": "execute_result",
          "data": {
            "text/plain": [
              "1.0"
            ]
          },
          "metadata": {},
          "execution_count": 28
        }
      ]
    },
    {
      "cell_type": "markdown",
      "source": [
        "  - 汉明距离（Hamming Distance），两个向量间不同值的数量，当向量长度不等时很难使用并且不会考虑实际值，常用与网络传输中的纠错/检测。\n",
        "\n"
      ],
      "metadata": {
        "id": "Wm9EGNL7C5My"
      }
    },
    {
      "cell_type": "code",
      "source": [
        "distance.hamming([1, 0, 0], [0, 1, 0]) # 0.6666666666666666"
      ],
      "metadata": {
        "colab": {
          "base_uri": "https://localhost:8080/"
        },
        "id": "Oq0IDPioIqJI",
        "outputId": "a1307e51-870d-4954-cda2-f27903d56c17"
      },
      "execution_count": null,
      "outputs": [
        {
          "output_type": "execute_result",
          "data": {
            "text/plain": [
              "0.6666666666666666"
            ]
          },
          "metadata": {},
          "execution_count": 29
        }
      ]
    },
    {
      "cell_type": "markdown",
      "source": [
        "  - 半正矢距离（Haversine Distance），给定经纬度球面上两点间的距离，实际上很少有这种情况，更多的是计算椭圆面上的距离（vincenty距离）。\n",
        "\n",
        "  $D(xy) = 2r \\: arcsin(  \\sqrt{sin^2(\\frac{𝛗_2 - 𝛗_1}{2}) + cos 𝛗_1⋅cos𝛗_2⋅sin^2(\\frac{λ_2 - λ_1}{2} } ) ) $\n",
        "\n"
      ],
      "metadata": {
        "id": "3CYX8LMkC7wL"
      }
    },
    {
      "cell_type": "code",
      "source": [
        "from math import radians, cos, sin, asin, sqrt\n",
        "\n",
        "def haversine(lon1, lat1, lon2, lat2):\n",
        "    \"\"\"\n",
        "    Calculate the great circle distance in kilometers between two points \n",
        "    on the earth (specified in decimal degrees)\n",
        "    \"\"\"\n",
        "    # convert decimal degrees to radians \n",
        "    lon1, lat1, lon2, lat2 = map(radians, [lon1, lat1, lon2, lat2])\n",
        "\n",
        "    # haversine formula \n",
        "    dlon = lon2 - lon1 \n",
        "    dlat = lat2 - lat1 \n",
        "    a = sin(dlat/2)**2 + cos(lat1) * cos(lat2) * sin(dlon/2)**2\n",
        "    c = 2 * asin(sqrt(a)) \n",
        "    r = 6371 # Radius of earth in kilometers. Use 3956 for miles. Determines return value units.\n",
        "    return c * r"
      ],
      "metadata": {
        "id": "BuvIwRISQb43"
      },
      "execution_count": null,
      "outputs": []
    },
    {
      "cell_type": "code",
      "source": [
        "haversine(1,0,0,1) # 157.24938127194397"
      ],
      "metadata": {
        "colab": {
          "base_uri": "https://localhost:8080/"
        },
        "id": "3knUXuF6QqSa",
        "outputId": "a8ee1a5d-bb74-4d82-edd2-31805f483ad1"
      },
      "execution_count": null,
      "outputs": [
        {
          "output_type": "execute_result",
          "data": {
            "text/plain": [
              "157.24938127194397"
            ]
          },
          "metadata": {},
          "execution_count": 36
        }
      ]
    },
    {
      "cell_type": "markdown",
      "source": [
        "  - 马哈拉诺比斯距离（Mahalanobis Distance，马氏距离），用于计算点与分布间的距离。给定分布D，均值$μ = (μ_1,μ_2,...,μ_p)$，协方差矩阵S，则点$x = (x_1.x_2,...,x_n)$与分布D的距离为：\n",
        "     \n",
        "      $D(x,D) = ( (x-μ ) ^T S ^ {-1} (x-μ) )^{1/2}$\n",
        "    \n",
        "    两个服从分布D的随机掉x、y间的马氏距离为：\n",
        "      \n",
        "      $D(x,y;D) = ( (x-y ) ^T S ^ {-1} (x-y) )^{1/2}$\n",
        "    \n",
        "     当协方差矩阵是单位矩阵时，可以将其等效为欧氏距离（$ σ_i$为$x_i$的标准差）：\n",
        "        \n",
        "       $D(x,y) = ( \\frac{ \\mathop{∑}\\limits_{i=1}^{n} (x_i - y_i)^2}{ σ_i^2 })^{1/2}$\n",
        "\n",
        "\n",
        " "
      ],
      "metadata": {
        "id": "ibu2UtEJC-xG"
      }
    },
    {
      "cell_type": "code",
      "source": [
        "iv = [[1, 0.5, 0.5], [0.5, 1, 0.5], [0.5, 0.5, 1]]"
      ],
      "metadata": {
        "id": "EzFTzcNsI8D7"
      },
      "execution_count": null,
      "outputs": []
    },
    {
      "cell_type": "code",
      "source": [
        "distance.mahalanobis([1, 0, 0], [0, 1, 0], iv) # 1.0"
      ],
      "metadata": {
        "colab": {
          "base_uri": "https://localhost:8080/"
        },
        "id": "hj18dLmLI_ag",
        "outputId": "77c73259-1898-45f6-d862-53b03899cd51"
      },
      "execution_count": null,
      "outputs": [
        {
          "output_type": "execute_result",
          "data": {
            "text/plain": [
              "1.0"
            ]
          },
          "metadata": {},
          "execution_count": 31
        }
      ]
    },
    {
      "cell_type": "markdown",
      "source": [
        "- 堪培拉距离（Canberra Distance），曼哈顿距离的加权版本。\n",
        "    \n",
        "  $D(x,y) = \\mathop{∑}\\limits_{i=1}^{n}  \\frac{ \\vert x_i - y_i  \\vert}{ \\vert x_i  \\vert +  \\vert y_i  \\vert} $\n",
        "\n",
        "\n",
        " "
      ],
      "metadata": {
        "id": "y7J9Cn9SDDjt"
      }
    },
    {
      "cell_type": "code",
      "source": [
        "distance.canberra([1, 0, 0], [0, 1, 0]) # 2.0"
      ],
      "metadata": {
        "colab": {
          "base_uri": "https://localhost:8080/"
        },
        "id": "a90vk78pJKEV",
        "outputId": "e0b56bf8-1fec-42f1-f8b5-dd8b02b37efd"
      },
      "execution_count": null,
      "outputs": [
        {
          "output_type": "execute_result",
          "data": {
            "text/plain": [
              "2.0"
            ]
          },
          "metadata": {},
          "execution_count": 32
        }
      ]
    },
    {
      "cell_type": "markdown",
      "source": [
        " - 布雷-柯蒂斯相异度（Bray-curtis dissimilarity）：\n",
        "   \n",
        "   $D(x,y) = \\frac{ \\mathop{∑}\\limits_{i=1}^{n}  \\vert x_i - y_i  \\vert }{ \\mathop{∑}\\limits_{i=1}^{n}  \\vert x_i + y_i  \\vert}$\n",
        "\n",
        "\n",
        " "
      ],
      "metadata": {
        "id": "z2fCGgGqDGmi"
      }
    },
    {
      "cell_type": "code",
      "source": [
        "distance.braycurtis([1, 0, 0], [0, 1, 0]) # 1.0"
      ],
      "metadata": {
        "colab": {
          "base_uri": "https://localhost:8080/"
        },
        "id": "UxE4CP5FJP4w",
        "outputId": "39f9016b-b5e2-4de5-b771-7c52ffa6c281"
      },
      "execution_count": null,
      "outputs": [
        {
          "output_type": "execute_result",
          "data": {
            "text/plain": [
              "1.0"
            ]
          },
          "metadata": {},
          "execution_count": 33
        }
      ]
    },
    {
      "cell_type": "markdown",
      "source": [
        " - KL散度（Kullback–Leibler divergence），衡量两个分布的相似性，离散概率分布$P$、$Q$在同一样本空间$\\chi$，$Q$到$P$的KL散度为：\n",
        "  \n",
        "   $D_{KL}( P || Q ) =  \\mathop{∑}\\limits_{x \\in \\chi} P(x) log (\\frac{P(x)} {Q(x)})$\n",
        "\n",
        "   当$P$、$Q$是绝对连续的，$Q$到$P$的KL散度可定义为：\n",
        "    \n",
        "     $D_{KL}( P || Q ) = \\int_{x} log( \\frac{P(dx)} {Q(dx) }) P(dx) = \\int_{x}  \\frac{P(dx)}{Q(dx)} log( \\frac{P(dx)} {Q(dx) }) Q(dx) $\n",
        "      \n",
        "    $μ$是$\\chi$上的任意测度，对于概率密度$p$存在 $P(dx) = p(x)μ(dx)$ 、$Q(dx) = q(x)μ(dx)$，$Q$到$P$的KL散度可定义为：\n",
        "\n",
        "      $D_{KL}( P || Q ) = \\int_{x} p(x) log( \\frac{p(x)} {q(x) }) μ(dx) $\n"
      ],
      "metadata": {
        "id": "duF_LY3-DLMO"
      }
    },
    {
      "cell_type": "code",
      "source": [
        "import scipy\n",
        "import numpy as np\n",
        "\n",
        "vec = scipy.special.rel_entr([1, 0, 0], [0, 1, 0])    \n",
        "kl_div = np.sum(vec)\n",
        "\n",
        "kl_div"
      ],
      "metadata": {
        "colab": {
          "base_uri": "https://localhost:8080/"
        },
        "id": "YbZ_vM7wJTox",
        "outputId": "631c9355-1401-4fa0-b5c3-76029f34b042"
      },
      "execution_count": null,
      "outputs": [
        {
          "output_type": "execute_result",
          "data": {
            "text/plain": [
              "inf"
            ]
          },
          "metadata": {},
          "execution_count": 41
        }
      ]
    },
    {
      "cell_type": "markdown",
      "source": [
        "- JS散度（Jensen–Shannon divergence），是KL散度的平滑版本。\n",
        "\n",
        "  $D_{JS}(P || Q) = \\frac{1}{2}D_{KL}(P || M)  + \\frac{1}{2}D_{KL}(Q || M)$，其中$ M =\\frac{1}{2}(P+Q) $\n",
        "\n",
        " "
      ],
      "metadata": {
        "id": "kM2u9qfGDz_W"
      }
    },
    {
      "cell_type": "code",
      "source": [
        "distance.jensenshannon([1.0, 0.0, 0.0], [0.0, 1.0, 0.0], 2.0) # 1.0"
      ],
      "metadata": {
        "colab": {
          "base_uri": "https://localhost:8080/"
        },
        "id": "Mb5zQzrBMB_5",
        "outputId": "26f0ff69-783b-4a7e-966c-e29b992e3be9"
      },
      "execution_count": null,
      "outputs": [
        {
          "output_type": "execute_result",
          "data": {
            "text/plain": [
              "1.0"
            ]
          },
          "metadata": {},
          "execution_count": 34
        }
      ]
    },
    {
      "cell_type": "markdown",
      "source": [
        "相似性搜索（向量搜索），给定一组向量和查询向量，从向量集中找到最相似的项目。\n",
        "\n",
        " KNN（k-nearest neighbors algorithm，k-最近邻居算法），在向量空间中为给定查询向量找到最近的向量，k-NN在查询时需要查询向量与向量集中每个向量的距离。\n",
        "\n",
        " ANN（approximately nearest neighbors，近似最近邻居），为减少KNN这类算法的计算复杂度，通过建立索引结构来缩小搜索空间以缩短查询时间。\n",
        "\n",
        "Faiss（Facebook AI Similarity Search）是一个流行的相似性搜索库，我么可以将向量存储到Faiss中进行索引，再用查询向量从Faiss中找到最相似的向量。\n",
        "\n",
        "BERT是一种流行的transform模型能将大量信息编码为一组密集向量，编码后通常会有512个密集向量，每个密集向量包含768个值。\n",
        "\n",
        "Sentence-BERT对BERT进行修改允许创建能够表示完整序列的单个向量。"
      ],
      "metadata": {
        "id": "CPR9oE3iEZ02"
      }
    },
    {
      "cell_type": "markdown",
      "source": [
        "安装相关库\n",
        "- sentence-transformers 将语句转为向量\n",
        "- faiss 用于计算两个向量的相似度"
      ],
      "metadata": {
        "id": "e7pM1fw7eos3"
      }
    },
    {
      "cell_type": "code",
      "execution_count": null,
      "metadata": {
        "id": "qF8toUDE6Gbr"
      },
      "outputs": [],
      "source": [
        "%pip install pandas sentence-transformers torch faiss-gpu"
      ]
    },
    {
      "cell_type": "code",
      "source": [
        "import pandas as pd\n",
        "from sentence_transformers import SentenceTransformer\n",
        "import faiss\n",
        "from google.colab import drive"
      ],
      "metadata": {
        "id": "Kve8zc0F6kdR"
      },
      "execution_count": null,
      "outputs": []
    },
    {
      "cell_type": "markdown",
      "source": [
        "挂载google drive到/content/drive/"
      ],
      "metadata": {
        "id": "0wM69SBMgLfg"
      }
    },
    {
      "cell_type": "code",
      "source": [
        "drive.mount('/content/drive/')"
      ],
      "metadata": {
        "colab": {
          "base_uri": "https://localhost:8080/"
        },
        "id": "MV4ih2SQgKiS",
        "outputId": "31c19724-1b71-4bee-9e22-8a398d8ff301"
      },
      "execution_count": null,
      "outputs": [
        {
          "output_type": "stream",
          "name": "stdout",
          "text": [
            "Drive already mounted at /content/drive/; to attempt to forcibly remount, call drive.mount(\"/content/drive/\", force_remount=True).\n"
          ]
        }
      ]
    },
    {
      "cell_type": "markdown",
      "source": [
        "从google drive读取数据文件去重，使用Sentence-BERT模型将语句转为密集向量。"
      ],
      "metadata": {
        "id": "MNmfeMAwgZdD"
      }
    },
    {
      "cell_type": "code",
      "source": [
        "data = pd.read_csv('/content/drive/MyDrive/train_data/SICK_train.txt', sep='\\t')\n",
        "\n",
        "sentences = data['sentence_A'].tolist()\n",
        "sentence_b = data['sentence_B'].tolist()\n",
        "sentences.extend(sentence_b)  # merge them\n",
        "\n",
        "# remove duplicates and NaN\n",
        "sentences = [word for word in list(set(sentences)) if type(word) is str]\n",
        "\n",
        "# initialize sentence transformer model\n",
        "model = SentenceTransformer('bert-base-nli-mean-tokens')\n",
        "# create sentence embeddings\n",
        "sentence_embeddings = model.encode(sentences)\n",
        "\n",
        "print(sentence_embeddings.shape)"
      ],
      "metadata": {
        "colab": {
          "base_uri": "https://localhost:8080/"
        },
        "id": "5vQMzsb560v6",
        "outputId": "97b6a4df-6cb1-4f03-d2cc-744097b6166e"
      },
      "execution_count": null,
      "outputs": [
        {
          "output_type": "stream",
          "name": "stdout",
          "text": [
            "(4802, 768)\n"
          ]
        }
      ]
    },
    {
      "cell_type": "markdown",
      "source": [
        "以向量维度初始化 faiss索引，再将编码后向量加入索引\n",
        "\n",
        "- IndexFlatL2用了测量查询向量与加载到索引向量间的欧几里得距离"
      ],
      "metadata": {
        "id": "ouIMhr6vk-u3"
      }
    },
    {
      "cell_type": "code",
      "source": [
        "d = sentence_embeddings.shape[1]\n",
        "\n",
        "index = faiss.IndexFlatL2(d)\n",
        "index.add(sentence_embeddings)"
      ],
      "metadata": {
        "id": "90nH4iCv_5mU"
      },
      "execution_count": null,
      "outputs": []
    },
    {
      "cell_type": "markdown",
      "source": [
        "将一个查询语句编码向量，在索引中查询4个最相似向量"
      ],
      "metadata": {
        "id": "2Fo3Icm8l1gC"
      }
    },
    {
      "cell_type": "code",
      "source": [
        "k = 4\n",
        "xq = model.encode([\"Someone sprints with a football\"])\n"
      ],
      "metadata": {
        "id": "A6ZlbER9BtJ9"
      },
      "execution_count": null,
      "outputs": []
    },
    {
      "cell_type": "code",
      "source": [
        "%%time\n",
        "D, I = index.search(xq, k)  # search\n",
        "print(I)"
      ],
      "metadata": {
        "colab": {
          "base_uri": "https://localhost:8080/"
        },
        "id": "6HewN2-KwOlS",
        "outputId": "466707d0-87db-4cf0-cd95-07af39674b2d"
      },
      "execution_count": null,
      "outputs": [
        {
          "output_type": "stream",
          "name": "stdout",
          "text": [
            "[[4577 1202 1117 4633]]\n",
            "CPU times: user 6.58 ms, sys: 1.01 ms, total: 7.59 ms\n",
            "Wall time: 7.66 ms\n"
          ]
        }
      ]
    },
    {
      "cell_type": "markdown",
      "source": [
        "每次查询时会与将查询向量与索引上所有向量进行比较，大量数据时索引会变得越来越慢。\n",
        "\n",
        "一种流行的优化方法是划分为Voronoi单元，索引的每个成员向量都在一个Voronoi单元中，在进行新的查询时，先测量查询向量与Voronoi单元基点的距离，找到最近的Voronoi单元将搜索范围限定在该Voronoi单元。这样缩小搜索范围，生成了一个近似答案，而非精确答案。\n",
        "- Voronoi图是一种空间分割算法，将平面分割为靠近一组给定目标的区域，最简单的情况下这些目标是平面上有限的点（称为种子、基点、生成器），每个基点对应一个区域称为Voronoi单元，单元中所有点距离该基点最近（距离其他基点更远）。\n",
        "\n",
        "使用IndexIVFFlat添加了聚类，在添加索引数据前需要对数据进行训练。\n",
        "\n",
        "将IndexFlatL2作为量化器得到IndexIVFFlat总的分区索引。"
      ],
      "metadata": {
        "id": "wDWO-Mxbm7dt"
      }
    },
    {
      "cell_type": "code",
      "source": [
        "nlist = 50  # Voronoi单元数量\n",
        "\n",
        "quantizer = faiss.IndexFlatL2(d)\n",
        "\n",
        "index = faiss.IndexIVFFlat(quantizer, d, nlist)\n",
        "\n",
        "index.train(sentence_embeddings)\n",
        "\n",
        "index.add(sentence_embeddings)"
      ],
      "metadata": {
        "id": "eOqbTJ5IslSc"
      },
      "execution_count": null,
      "outputs": []
    },
    {
      "cell_type": "markdown",
      "source": [
        "再次进行查询，得到结果与之前一致。\n",
        "\n",
        "如未返回最优结果，可以通过增大index.nprobe（定义搜索多少个邻近的Voronoi单元）来增大搜索范围，相应的会降低搜索速度。"
      ],
      "metadata": {
        "id": "sheCtgAKuBTn"
      }
    },
    {
      "cell_type": "code",
      "source": [
        "%%time\n",
        "D, I = index.search(xq, k)  # search\n",
        "print(I)"
      ],
      "metadata": {
        "colab": {
          "base_uri": "https://localhost:8080/"
        },
        "id": "D6xqflOavxpl",
        "outputId": "6a1d21ff-e7a1-4930-931a-ffc1b67a4912"
      },
      "execution_count": null,
      "outputs": [
        {
          "output_type": "stream",
          "name": "stdout",
          "text": [
            "[[4577 1202 1117 4633]]\n",
            "CPU times: user 1.77 ms, sys: 0 ns, total: 1.77 ms\n",
            "Wall time: 1.43 ms\n"
          ]
        }
      ]
    },
    {
      "cell_type": "code",
      "source": [
        "index.nprobe = 10"
      ],
      "metadata": {
        "id": "6Tt87fVaxIq8"
      },
      "execution_count": null,
      "outputs": []
    },
    {
      "cell_type": "code",
      "source": [
        "%%time\n",
        "D, I = index.search(xq, k)  # search\n",
        "print(I)"
      ],
      "metadata": {
        "colab": {
          "base_uri": "https://localhost:8080/"
        },
        "id": "fhdXbVZ7xLTU",
        "outputId": "5d9a377e-1b58-4355-bb6e-95ea7cb3909e"
      },
      "execution_count": null,
      "outputs": [
        {
          "output_type": "stream",
          "name": "stdout",
          "text": [
            "[[4577 1202 1117 4633]]\n",
            "CPU times: user 1.76 ms, sys: 0 ns, total: 1.76 ms\n",
            "Wall time: 1.77 ms\n"
          ]
        }
      ]
    },
    {
      "cell_type": "markdown",
      "source": [
        "如果存储的向量都是完整的，数据集很大时，这将成为问题。\n",
        "\n",
        "Faiss中使用Product Quantization (PQ，乘积量化)来压缩向量，PQ可以视为一个额外的近似步骤，IVF通过缩小搜索范围进行近似，PQ通过距离/相似性计算来进行近似。\n",
        "- 将原始向量拆分为几个子向量；\n",
        "- 对每个子向量执行聚类，为每个子向量集创建质心；\n",
        "- 用距离子向量最近的质心id替换子向量；"
      ],
      "metadata": {
        "id": "k7j1rvgEx1pi"
      }
    },
    {
      "cell_type": "code",
      "source": [
        "m = 8  #最终压缩向量中质心数量\n",
        "bits = 8 # 质心的位数\n",
        "\n",
        "quantizer = faiss.IndexFlatL2(d)  # 继续使用L2距离进行量化\n",
        "index = faiss.IndexIVFPQ(quantizer, d, nlist, m, bits) \n",
        "\n",
        "index.train(sentence_embeddings)\n",
        "\n",
        "index.add(sentence_embeddings)"
      ],
      "metadata": {
        "id": "eulp0E8_0jQB"
      },
      "execution_count": null,
      "outputs": []
    },
    {
      "cell_type": "code",
      "source": [
        "index.nprobe = 10"
      ],
      "metadata": {
        "id": "Ff5_usyF26Rw"
      },
      "execution_count": null,
      "outputs": []
    },
    {
      "cell_type": "code",
      "source": [
        "%%time\n",
        "D, I = index.search(xq, k)\n",
        "print(I)"
      ],
      "metadata": {
        "colab": {
          "base_uri": "https://localhost:8080/"
        },
        "id": "4yR07ACY2zHS",
        "outputId": "cbeb41d6-b054-43cc-d8c4-3aae8cc3727d"
      },
      "execution_count": null,
      "outputs": [
        {
          "output_type": "stream",
          "name": "stdout",
          "text": [
            "[[1202 4577 4633 1970]]\n",
            "CPU times: user 1.65 ms, sys: 0 ns, total: 1.65 ms\n",
            "Wall time: 1.67 ms\n"
          ]
        }
      ]
    },
    {
      "cell_type": "markdown",
      "source": [
        "参考：\n",
        "- 数据科学中的九种距离度量 <https://towardsdatascience.com/9-distance-measures-in-data-science-918109d069fa>"
      ],
      "metadata": {
        "id": "5PGIX2OddPMa"
      }
    }
  ]
}