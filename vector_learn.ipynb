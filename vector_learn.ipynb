{
  "nbformat": 4,
  "nbformat_minor": 0,
  "metadata": {
    "colab": {
      "provenance": [],
      "authorship_tag": "ABX9TyNxSl98NPrGYkL4QNk09+nk",
      "include_colab_link": true
    },
    "kernelspec": {
      "name": "python3",
      "display_name": "Python 3"
    },
    "language_info": {
      "name": "python"
    }
  },
  "cells": [
    {
      "cell_type": "markdown",
      "metadata": {
        "id": "view-in-github",
        "colab_type": "text"
      },
      "source": [
        "<a href=\"https://colab.research.google.com/github/nananatsu/blog/blob/master/vector_learn.ipynb\" target=\"_parent\"><img src=\"https://colab.research.google.com/assets/colab-badge.svg\" alt=\"Open In Colab\"/></a>"
      ]
    },
    {
      "cell_type": "markdown",
      "source": [
        "## 向量搜索学习笔记\n",
        "\n",
        " 通过统计方法或机器学习，能够将现实世界的对象、概念转为向量表示， 再通过向量间的距离来判断它们的相似度。\n",
        " \n"
      ],
      "metadata": {
        "id": "Sby7SB9T448o"
      }
    },
    {
      "cell_type": "markdown",
      "source": [
        "Transform近年最流行的一个模型，基于注意力机制，分为编码器、解码器两个部分，每个部分可以独立使用：\n",
        " - 仅编码器模型，需要理解输入的任务，模型代表：ALBERT、BERT、DistilBERT、ELECTRA、RoBERTa\n",
        " - 仅解码器模型，用于生成任务，模型代表：CTRL、GPT、GPT-2、TransformerXL\n",
        " - 编码器-解码器模型，用于需要输入的生成任务，模型代表：BART、mbart、Marian、T5\n",
        "\n",
        "通过使用一些编码器模型我们能够将文本、图片、音频转换为向量表示：\n",
        "- 文本转换：BERT、RoBERT、DistilBERT、ALBERT、Debert\n",
        "- 图片转换：ViT、Swin Transfomer、BeIT、ViTMAE\n",
        "- 音频转换：Wav2Vec2、HuBERT"
      ],
      "metadata": {
        "id": "2biyas-qHH0-"
      }
    },
    {
      "cell_type": "markdown",
      "source": [
        "向量在计算机中分为两类：\n",
        "- 密集向量，每个维度都包含信息，难以压缩，如[1.0,0.2,0.4,...,1.2,4.5,3.4]\n",
        "- 稀疏向量，大部分维度0，少部分维度非0，如： [1.0,0,0,...,0,0,3.4]\n",
        "  - 可以用三个分量来表示稀疏向量，减少存储所需空间\n",
        "    -  向量大小\n",
        "    -  非0元素的索引\n",
        "    -  非0元素的值"
      ],
      "metadata": {
        "id": "f4oe9vPf9Tv8"
      }
    },
    {
      "cell_type": "markdown",
      "source": [
        "向量距离在数学中称为范数(norm)，是实数/复数向量空间到非负实数的函数，表现得像与原点间的距离。\n",
        "\n",
        "给定$X$是复数子域$F$上的向量空间，$X$上的范数p需要满足以下条件：\n",
        "  1. 三角不等式： $p(x+y) ≥ p(x) + p(y)$， $x,y \\in X$；\n",
        "  2. 绝对齐次性： $ p(sx) = \\vert s \\vert p(x)$，$x \\in X$，$s$是一个标量；\n",
        "  3. 正定性：对所有$x \\in X$当且仅当$x=0$时$p(x) =0$\n",
        "\n",
        "当仅满足条件1、2时称为半范数。\n",
        "\n",
        "通常用$\\Vert x \\Vert$来表示范数,在欧几里得空间中时也会使用$\\vert x \\vert$来表示范数。"
      ],
      "metadata": {
        "id": "Lu_w53XXW6V5"
      }
    },
    {
      "cell_type": "markdown",
      "source": [
        "\n",
        "常见范数：\n",
        "- 绝对值范数：$\\Vert x \\Vert = \\vert x \\vert $\n",
        "- 欧几里得范数：$\\Vert x \\Vert _2 = \\sqrt{\\mathop{∑}\\limits_{i=1}^{n} x_i^2} $\n",
        "- 曼哈顿范数：$\\Vert x \\Vert _1 = \\mathop{∑}\\limits_{i=1}^{n} \\vert x_i \\vert $\n",
        "- 最大范数：$\\Vert x \\Vert _∞ = \\mathop{max}\\limits_{i} ( \\vert x_i \\vert ) $\n",
        "- p范数：对于向量$x=(x_1,x_2,...,x_n)$，$p ≥ 1$，p范数为$ \\Vert x \\Vert _p = (\\mathop{∑}\\limits_{i=1}^{n}  \\vert  x_i - y_i \\vert ^p  ) ^ {1/p}$\n",
        "  - p为1时是曼哈顿范数\n",
        "  - p为2时是欧几里得范数\n",
        "  - p接近$∞$时p范数接近最大范数\n",
        "  - p在 $0 < x <1 $间是结果不是范数，其结果不满足三角不等式"
      ],
      "metadata": {
        "id": "snecd5FzF5oC"
      }
    },
    {
      "cell_type": "markdown",
      "source": [
        " 常见相似度/距离计算方式：\n"
      ],
      "metadata": {
        "id": "-m3JnTWE9Zza"
      }
    },
    {
      "cell_type": "code",
      "source": [
        "%pip install scipy"
      ],
      "metadata": {
        "id": "8_aF2S32Bsjt"
      },
      "execution_count": null,
      "outputs": []
    },
    {
      "cell_type": "code",
      "source": [
        "from scipy.spatial import distance\n",
        "from scipy.stats import entropy\n",
        "import numpy as np"
      ],
      "metadata": {
        "id": "LAv_DvcpCQAY"
      },
      "execution_count": null,
      "outputs": []
    },
    {
      "cell_type": "markdown",
      "source": [
        " - 欧几里得距离（Euclidean Distance），也被称为欧氏距离、$L_2$/$L^2$范数/距离，连接两点的直线距离，最常用的距离度量，随维度较增加适用性下降。\n",
        "\n",
        " 在一维上点x与y的距离是两点坐标值差的绝对值：\n",
        "\n",
        " $D(x,y) = \\vert x - y \\vert = \\sqrt{(x-y)^2}$\n",
        " \n",
        " 在二维平面上，建立笛卡尔坐标,使x坐标$(x_1,x_2)$，y坐标$(y_1,y_2)$，则x与y的距离为：\n",
        "\n",
        " $D(x,y) =  \\sqrt{(x_1-y_1)^2 + (x_2 - y_2)^2} $\n",
        "\n",
        "  一般的对于笛卡尔坐标给定n维欧式空间，x与y间的距离为：\n",
        " \n",
        "  $D(x,y) = \\sqrt{\\mathop{∑}\\limits_{i=1}^{n} (x_i - y_i)^2}$\n",
        "\n",
        "  简化为向量范数（欧几里得距离便是欧几里得向量空间上的定义的范数）表示：\n",
        "\n",
        "  $D(x,y) = \\Vert x -y \\Vert $"
      ],
      "metadata": {
        "id": "hDeIv5idBp5i"
      }
    },
    {
      "cell_type": "code",
      "source": [
        "distance.euclidean([1, 0, 0], [0, 1, 0])"
      ],
      "metadata": {
        "colab": {
          "base_uri": "https://localhost:8080/"
        },
        "id": "kXXahcBuB5CI",
        "outputId": "3824edef-b743-44aa-a144-0c67d3a05559"
      },
      "execution_count": null,
      "outputs": [
        {
          "output_type": "execute_result",
          "data": {
            "text/plain": [
              "1.4142135623730951"
            ]
          },
          "metadata": {},
          "execution_count": 11
        }
      ]
    },
    {
      "cell_type": "markdown",
      "source": [
        "- 余弦相似性（Cosine Similarity），两个向量夹角的余弦，只考虑了向量的方向，没有考虑向量大小，向量间的差异没有充分考虑。\n",
        "\n",
        "  依据向量内积公式： $ x⋅y = \\Vert x \\Vert \\Vert y \\Vert cos θ $ 可知x,y的余弦相似性为：\n",
        "\n",
        "   $D(x,y) = cos(θ) = \\frac{ x \\cdot y} { \\Vert x  \\Vert  \\Vert y  \\Vert} $\n",
        "\n",
        "   向量内积也可以表示为向量各分量乘积之和：$ x⋅y = \\mathop{∑}\\limits_{i=1}^{n}  x_i × y_i $\n",
        "   \n",
        "   向量的范数为自身内积的平方根：$ \\Vert x \\Vert = \\sqrt{ x \\cdot x } = \\sqrt{\\mathop{∑}\\limits_{i=1}^{n}  x_i ^2 }$\n",
        "\n",
        "   可得出向量余弦相似性可表示为：\n",
        "\n",
        "  $ D(x,y)= \\frac{\\mathop{∑}\\limits_{i=1}^{n}  x_i × y_i} {\\sqrt{\\mathop{∑}\\limits_{i=1}^{n}  x_i ^2}×\\sqrt{\\mathop{∑}\\limits_{i=1}^{n}  y_i ^2}} $"
      ],
      "metadata": {
        "id": "vHINh5v4B3Dj"
      }
    },
    {
      "cell_type": "code",
      "source": [
        "distance.cosine([1, 0, 0], [0, 1, 0]) "
      ],
      "metadata": {
        "colab": {
          "base_uri": "https://localhost:8080/"
        },
        "id": "1dBk0yunGQnK",
        "outputId": "d22901d5-7f33-42e0-acce-c4000b169e97"
      },
      "execution_count": null,
      "outputs": [
        {
          "output_type": "execute_result",
          "data": {
            "text/plain": [
              "1.0"
            ]
          },
          "metadata": {},
          "execution_count": 13
        }
      ]
    },
    {
      "cell_type": "markdown",
      "source": [
        "- 曼哈顿距离（Manhattan Distance），也被称为出租车距离、、$L_1$/$L^1$范数/距离，两点间的网格距离，基于曼哈顿几何，相较欧几里得几何使用了新的距离函数/度量，两个点的距离是它们笛卡尔坐标差的绝对值之和，在高维数据中不够直观，因为不是直线距离，给出的距离比欧几里得距离大。\n",
        "  \n",
        "   $ D(x,y) = \\mathop{∑}\\limits_{i=1}^{n}  \\vert x_i - y_i  \\vert $ \n",
        "\n",
        "  相应范数形式为：\n",
        "\n",
        "  $ D(x,y) = \\Vert x -y \\Vert_1$\n",
        "\n",
        " "
      ],
      "metadata": {
        "id": "L6V54SAhCkVU"
      }
    },
    {
      "cell_type": "code",
      "source": [
        "distance.cityblock([1, 0, 0], [0, 1, 0]) "
      ],
      "metadata": {
        "colab": {
          "base_uri": "https://localhost:8080/"
        },
        "id": "y7hn5Mo3Gy4G",
        "outputId": "b208dfe9-42d7-4e8b-cb7c-5c66c205bf47"
      },
      "execution_count": null,
      "outputs": [
        {
          "output_type": "execute_result",
          "data": {
            "text/plain": [
              "2"
            ]
          },
          "metadata": {},
          "execution_count": 20
        }
      ]
    },
    {
      "cell_type": "markdown",
      "source": [
        " - 切比雪夫距离（Chebyshev Distance），也被称为最大度量、$L_∞$度量，两个向量各维度的数据差值的最大值，即沿着坐标轴计算的最大距离，适用场景特殊，一般不推荐使用。\n",
        "  \n",
        "   $D(x,y) = \\mathop{max}\\limits_{i} ( \\vert x_i - y_i \\vert )  = \\mathop{lim} \\limits_{k \\to ∞ } ( \\mathop{∑}\\limits_{i=1}^{n}  \\vert  x_i - y_i \\vert ^p  ) ^ {1/p} $\n",
        "\n"
      ],
      "metadata": {
        "id": "Lq3tEaPoCpSS"
      }
    },
    {
      "cell_type": "code",
      "source": [
        "distance.chebyshev([1, 0, 0], [0, 1, 0])"
      ],
      "metadata": {
        "colab": {
          "base_uri": "https://localhost:8080/"
        },
        "id": "TMAFsdMIHf-1",
        "outputId": "fa573c53-e6a4-43dd-e8b1-d78a1856af52"
      },
      "execution_count": null,
      "outputs": [
        {
          "output_type": "execute_result",
          "data": {
            "text/plain": [
              "1"
            ]
          },
          "metadata": {},
          "execution_count": 21
        }
      ]
    },
    {
      "cell_type": "markdown",
      "source": [
        "  - 闵可夫斯基距离（Minkowski，闵氏距离），是欧几里得距离或曼哈顿距离的推广，$p$为1时为曼哈顿距离、$p$为2时为欧几里得距离、$p$为$∞$时为切比雪夫距离。\n",
        "     \n",
        "       $D(x,y) = (\\mathop{∑}\\limits_{i=1}^{n}  \\vert x_i - y_i  \\vert ^ p ) ^ {1/p} $\n",
        "    \n",
        " "
      ],
      "metadata": {
        "id": "lacLzfsOCuqV"
      }
    },
    {
      "cell_type": "code",
      "source": [
        "distance.minkowski([1, 0, 0], [0, 1, 0], 1)"
      ],
      "metadata": {
        "colab": {
          "base_uri": "https://localhost:8080/"
        },
        "id": "YUpGhtG3HvfQ",
        "outputId": "5836110e-c0c9-4af4-c367-0632ebe56a68"
      },
      "execution_count": null,
      "outputs": [
        {
          "output_type": "execute_result",
          "data": {
            "text/plain": [
              "2.0"
            ]
          },
          "metadata": {},
          "execution_count": 22
        }
      ]
    },
    {
      "cell_type": "code",
      "source": [
        "distance.minkowski([1, 0, 0], [0, 1, 0], 2) "
      ],
      "metadata": {
        "colab": {
          "base_uri": "https://localhost:8080/"
        },
        "id": "IKuQ2_jUH6rG",
        "outputId": "5fad0d5f-6d93-4a46-d048-37120ad1f547"
      },
      "execution_count": null,
      "outputs": [
        {
          "output_type": "execute_result",
          "data": {
            "text/plain": [
              "1.4142135623730951"
            ]
          },
          "metadata": {},
          "execution_count": 23
        }
      ]
    },
    {
      "cell_type": "code",
      "source": [
        "distance.minkowski([1, 0, 0], [0, 1, 0], 3) "
      ],
      "metadata": {
        "colab": {
          "base_uri": "https://localhost:8080/"
        },
        "id": "Ex8-obvqH_Tq",
        "outputId": "109dfdce-f7d8-4587-ca4c-37b8a15fd5c3"
      },
      "execution_count": null,
      "outputs": [
        {
          "output_type": "execute_result",
          "data": {
            "text/plain": [
              "1.2599210498948732"
            ]
          },
          "metadata": {},
          "execution_count": 26
        }
      ]
    },
    {
      "cell_type": "markdown",
      "source": [
        " - 雅卡尔指数（Jaccard Index），样本交集大小除以并集大小，从1减去雅卡尔指数得到雅卡尔距离，受数据集大小影响很大。\n",
        "  \n",
        "  $D(x,y) = 1 - \\frac{ \\vert  x \\bigcap y \\vert }{ \\vert  x \\bigcup y \\vert }  = 1 -  \\frac{  x \\cdot y }{ \\Vert x \\Vert ^2 + \\Vert y \\Vert ^2  -   x \\cdot y }  = 1- \\frac{ \\mathop{∑}\\limits_{i=1}^{n} x_i \\times y_i }{   \\mathop{∑}\\limits_{i=1}^{n} x_i^2 + \\mathop{∑}\\limits_{i=1}^{n} y_i^2 -  \\mathop{∑}\\limits_{i=1}^{n} x_i \\times y_i   }$ \n",
        "\n"
      ],
      "metadata": {
        "id": "BBfuOMU5Cyxj"
      }
    },
    {
      "cell_type": "code",
      "source": [
        "distance.jaccard([1, 0, 0], [0, 1, 0])"
      ],
      "metadata": {
        "colab": {
          "base_uri": "https://localhost:8080/"
        },
        "id": "SAbD0VNxIThF",
        "outputId": "eefaaf4f-d6b1-48f7-c3d8-ef85d437ab47"
      },
      "execution_count": null,
      "outputs": [
        {
          "output_type": "execute_result",
          "data": {
            "text/plain": [
              "1.0"
            ]
          },
          "metadata": {},
          "execution_count": 27
        }
      ]
    },
    {
      "cell_type": "markdown",
      "source": [
        "  - 戴斯系数（Sørensen-Dice Index），与雅卡尔指数十分相似，可以视为两个集合的重叠率，相应差异函数1-戴斯系数没有三角不等式，不适合作为距离度量，戴斯系数在异构数据集中保持敏感，能够降低异常值的权重。\n",
        "  \n",
        "   $D(x,y) = \\frac{ 2 \\vert  x \\bigcap y \\vert }{ \\vert  x   \\vert +  \\vert  y \\vert }   =  \\frac{ 2  \\vert x \\cdot y \\vert }{ \\Vert x \\Vert ^2 + \\Vert y \\Vert ^2  }  =\\frac{ 2 \\mathop{∑}\\limits_{i=1}^{n} x_i \\times y_i }{   \\mathop{∑}\\limits_{i=1}^{n} x_i^2 + \\mathop{∑}\\limits_{i=1}^{n} y_i^2 } $\n",
        "\n"
      ],
      "metadata": {
        "id": "SKUFGkDHC17O"
      }
    },
    {
      "cell_type": "code",
      "source": [
        "distance.dice([1, 0, 0], [0, 1, 0])"
      ],
      "metadata": {
        "colab": {
          "base_uri": "https://localhost:8080/"
        },
        "id": "MTO5tbB3Id6Z",
        "outputId": "3afac225-1a1d-41ac-f2be-49d071ebcf06"
      },
      "execution_count": null,
      "outputs": [
        {
          "output_type": "execute_result",
          "data": {
            "text/plain": [
              "1.0"
            ]
          },
          "metadata": {},
          "execution_count": 28
        }
      ]
    },
    {
      "cell_type": "markdown",
      "source": [
        "  - 汉明距离（Hamming Distance），两个向量间不同值的数量，当向量长度不等时很难使用并且不会考虑实际值，常用与网络传输中的纠错/检测。\n",
        "\n"
      ],
      "metadata": {
        "id": "Wm9EGNL7C5My"
      }
    },
    {
      "cell_type": "code",
      "source": [
        "distance.hamming([1, 0, 0], [0, 1, 0]) "
      ],
      "metadata": {
        "colab": {
          "base_uri": "https://localhost:8080/"
        },
        "id": "Oq0IDPioIqJI",
        "outputId": "a1307e51-870d-4954-cda2-f27903d56c17"
      },
      "execution_count": null,
      "outputs": [
        {
          "output_type": "execute_result",
          "data": {
            "text/plain": [
              "0.6666666666666666"
            ]
          },
          "metadata": {},
          "execution_count": 29
        }
      ]
    },
    {
      "cell_type": "markdown",
      "source": [
        "  - 半正矢距离（Haversine Distance），给定经纬度球面上两点间的距离，实际上很少有这种情况，更多的是计算椭圆面上的距离（vincenty距离）。\n",
        "\n",
        "  $D(xy) = 2r \\: arcsin(  \\sqrt{sin^2(\\frac{𝛗_2 - 𝛗_1}{2}) + cos 𝛗_1⋅cos𝛗_2⋅sin^2(\\frac{λ_2 - λ_1}{2} } ) ) $\n",
        "\n"
      ],
      "metadata": {
        "id": "3CYX8LMkC7wL"
      }
    },
    {
      "cell_type": "code",
      "source": [
        "from math import radians, cos, sin, asin, sqrt\n",
        "\n",
        "def haversine(lon1, lat1, lon2, lat2):\n",
        "    \"\"\"\n",
        "    Calculate the great circle distance in kilometers between two points \n",
        "    on the earth (specified in decimal degrees)\n",
        "    \"\"\"\n",
        "    # convert decimal degrees to radians \n",
        "    lon1, lat1, lon2, lat2 = map(radians, [lon1, lat1, lon2, lat2])\n",
        "\n",
        "    # haversine formula \n",
        "    dlon = lon2 - lon1 \n",
        "    dlat = lat2 - lat1 \n",
        "    a = sin(dlat/2)**2 + cos(lat1) * cos(lat2) * sin(dlon/2)**2\n",
        "    c = 2 * asin(sqrt(a)) \n",
        "    r = 6371 # Radius of earth in kilometers. Use 3956 for miles. Determines return value units.\n",
        "    return c * r"
      ],
      "metadata": {
        "id": "BuvIwRISQb43"
      },
      "execution_count": null,
      "outputs": []
    },
    {
      "cell_type": "code",
      "source": [
        "haversine(1,0,0,1)"
      ],
      "metadata": {
        "colab": {
          "base_uri": "https://localhost:8080/"
        },
        "id": "3knUXuF6QqSa",
        "outputId": "a8ee1a5d-bb74-4d82-edd2-31805f483ad1"
      },
      "execution_count": null,
      "outputs": [
        {
          "output_type": "execute_result",
          "data": {
            "text/plain": [
              "157.24938127194397"
            ]
          },
          "metadata": {},
          "execution_count": 36
        }
      ]
    },
    {
      "cell_type": "markdown",
      "source": [
        "  - 马哈拉诺比斯距离（Mahalanobis Distance，马氏距离），用于计算点与分布间的距离。给定分布D，均值$μ = (μ_1,μ_2,...,μ_p)$，协方差矩阵S，则点$x = (x_1.x_2,...,x_n)$与分布D的距离为：\n",
        "     \n",
        "      $D(x,D) = ( (x-μ ) ^T S ^ {-1} (x-μ) )^{1/2}$\n",
        "    \n",
        "    两个服从分布D的随机点x、y间的马氏距离为：\n",
        "      \n",
        "      $D(x,y;D) = ( (x-y ) ^T S ^ {-1} (x-y) )^{1/2}$\n",
        "    \n",
        "     当协方差矩阵是单位矩阵时，可以将其等效为欧氏距离（$ σ_i$为$x_i$的标准差）：\n",
        "        \n",
        "       $D(x,y) = ( \\frac{ \\mathop{∑}\\limits_{i=1}^{n} (x_i - y_i)^2}{ σ_i^2 })^{1/2}$\n",
        "\n",
        "\n",
        " "
      ],
      "metadata": {
        "id": "ibu2UtEJC-xG"
      }
    },
    {
      "cell_type": "code",
      "source": [
        "iv = [[1, 0.5, 0.5], [0.5, 1, 0.5], [0.5, 0.5, 1]]"
      ],
      "metadata": {
        "id": "EzFTzcNsI8D7"
      },
      "execution_count": null,
      "outputs": []
    },
    {
      "cell_type": "code",
      "source": [
        "distance.mahalanobis([1, 0, 0], [0, 1, 0], iv) "
      ],
      "metadata": {
        "colab": {
          "base_uri": "https://localhost:8080/"
        },
        "id": "hj18dLmLI_ag",
        "outputId": "77c73259-1898-45f6-d862-53b03899cd51"
      },
      "execution_count": null,
      "outputs": [
        {
          "output_type": "execute_result",
          "data": {
            "text/plain": [
              "1.0"
            ]
          },
          "metadata": {},
          "execution_count": 31
        }
      ]
    },
    {
      "cell_type": "markdown",
      "source": [
        "- 堪培拉距离（Canberra Distance），曼哈顿距离的加权版本。\n",
        "    \n",
        "  $D(x,y) = \\mathop{∑}\\limits_{i=1}^{n}  \\frac{ \\vert x_i - y_i  \\vert}{ \\vert x_i  \\vert +  \\vert y_i  \\vert} $\n",
        "\n",
        "\n",
        " "
      ],
      "metadata": {
        "id": "y7J9Cn9SDDjt"
      }
    },
    {
      "cell_type": "code",
      "source": [
        "distance.canberra([1, 0, 0], [0, 1, 0]) "
      ],
      "metadata": {
        "colab": {
          "base_uri": "https://localhost:8080/"
        },
        "id": "a90vk78pJKEV",
        "outputId": "e0b56bf8-1fec-42f1-f8b5-dd8b02b37efd"
      },
      "execution_count": null,
      "outputs": [
        {
          "output_type": "execute_result",
          "data": {
            "text/plain": [
              "2.0"
            ]
          },
          "metadata": {},
          "execution_count": 32
        }
      ]
    },
    {
      "cell_type": "markdown",
      "source": [
        " - 布雷-柯蒂斯相异度（Bray-curtis dissimilarity），主要用于生物学/生态学，衡量地域间物种组成差异。\n",
        "   \n",
        "   $D(x,y) = \\frac{ \\mathop{∑}\\limits_{i=1}^{n}  \\vert x_i - y_i  \\vert }{ \\mathop{∑}\\limits_{i=1}^{n}  \\vert x_i + y_i  \\vert}$\n",
        "\n",
        "\n",
        " "
      ],
      "metadata": {
        "id": "z2fCGgGqDGmi"
      }
    },
    {
      "cell_type": "code",
      "source": [
        "distance.braycurtis([1, 0, 0], [0, 1, 0]) "
      ],
      "metadata": {
        "colab": {
          "base_uri": "https://localhost:8080/"
        },
        "id": "UxE4CP5FJP4w",
        "outputId": "39f9016b-b5e2-4de5-b771-7c52ffa6c281"
      },
      "execution_count": null,
      "outputs": [
        {
          "output_type": "execute_result",
          "data": {
            "text/plain": [
              "1.0"
            ]
          },
          "metadata": {},
          "execution_count": 33
        }
      ]
    },
    {
      "cell_type": "markdown",
      "source": [
        " - KL散度（Kullback–Leibler divergence），衡量两个分布的相似性，离散概率分布$P$、$Q$在同一样本空间$\\chi$，$Q$到$P$的KL散度为：\n",
        "  \n",
        "   $D_{KL}( P || Q ) =  \\mathop{∑}\\limits_{x \\in \\chi} P(x) log (\\frac{P(x)} {Q(x)})$\n",
        "\n",
        "   当$P$、$Q$是绝对连续的，$Q$到$P$的KL散度可定义为：\n",
        "    \n",
        "     $D_{KL}( P || Q ) = \\int_{x} log( \\frac{P(dx)} {Q(dx) }) P(dx) = \\int_{x}  \\frac{P(dx)}{Q(dx)} log( \\frac{P(dx)} {Q(dx) }) Q(dx) $\n",
        "      \n",
        "    $μ$是$\\chi$上的任意测度，对于概率密度$p$存在 $P(dx) = p(x)μ(dx)$ 、$Q(dx) = q(x)μ(dx)$，$Q$到$P$的KL散度可定义为：\n",
        "\n",
        "      $D_{KL}( P || Q ) = \\int_{x} p(x) log( \\frac{p(x)} {q(x) }) μ(dx) $\n"
      ],
      "metadata": {
        "id": "duF_LY3-DLMO"
      }
    },
    {
      "cell_type": "code",
      "source": [
        "def KL(p,q):\n",
        "  epsilon = 0.00001\n",
        "  p = np.asarray(p)+epsilon\n",
        "  q = np.asarray(q)+epsilon\n",
        "\n",
        "  return np.sum(p * np.log(p/q))\n",
        "\n",
        "KL([1.0, 0.0, 0.0], [0.0, 1.0, 0.0])"
      ],
      "metadata": {
        "colab": {
          "base_uri": "https://localhost:8080/"
        },
        "id": "YbZ_vM7wJTox",
        "outputId": "3a0a3ff4-7643-455c-84ad-4cea55e45e9c"
      },
      "execution_count": null,
      "outputs": [
        {
          "output_type": "execute_result",
          "data": {
            "text/plain": [
              "11.512935464920231"
            ]
          },
          "metadata": {},
          "execution_count": 20
        }
      ]
    },
    {
      "cell_type": "code",
      "source": [
        "entropy([1.0, 0.0, 0.0], [0.0, 1.0, 0.0],2)"
      ],
      "metadata": {
        "colab": {
          "base_uri": "https://localhost:8080/"
        },
        "id": "JYWMUduf19kd",
        "outputId": "c6e1e32f-52b8-44e7-8a76-744a8c44c1a7"
      },
      "execution_count": null,
      "outputs": [
        {
          "output_type": "execute_result",
          "data": {
            "text/plain": [
              "inf"
            ]
          },
          "metadata": {},
          "execution_count": 21
        }
      ]
    },
    {
      "cell_type": "markdown",
      "source": [
        "- JS散度（Jensen–Shannon divergence），是KL散度的平滑版本。\n",
        "\n",
        "  $D_{JS}(P || Q) = \\frac{1}{2}D_{KL}(P || M)  + \\frac{1}{2}D_{KL}(Q || M)$，其中$ M =\\frac{1}{2}(P+Q) $\n",
        "\n",
        " "
      ],
      "metadata": {
        "id": "kM2u9qfGDz_W"
      }
    },
    {
      "cell_type": "code",
      "source": [
        "distance.jensenshannon([1.0, 0.0, 0.0], [0.0, 1.0, 0.0], 2.0) "
      ],
      "metadata": {
        "colab": {
          "base_uri": "https://localhost:8080/"
        },
        "id": "Mb5zQzrBMB_5",
        "outputId": "17ad0963-2d22-44b4-920e-a96e79270843"
      },
      "execution_count": null,
      "outputs": [
        {
          "output_type": "execute_result",
          "data": {
            "text/plain": [
              "1.0"
            ]
          },
          "metadata": {},
          "execution_count": 8
        }
      ]
    },
    {
      "cell_type": "markdown",
      "source": [
        "相似性搜索（向量搜索），给定一组向量和查询向量，从向量集中找到最相似的项目。常用的有两种搜索方式：\n",
        "  - KNN（k-nearest neighbors algorithm，k-最近邻居算法），在向量空间中为给定查询向量找到最近的向量，k-NN在查询时需要查询向量与向量集中每个向量的距离。\n",
        "  - ANN（approximately nearest neighbors，近似最近邻居），为减少KNN这类算法的计算复杂度，通过建立索引结构来缩小搜索空间以缩短查询时间。"
      ],
      "metadata": {
        "id": "CPR9oE3iEZ02"
      }
    },
    {
      "cell_type": "markdown",
      "source": [
        "Faiss（Facebook AI Similarity Search）是一个流行的相似性搜索库，我们可以将向量存储到Faiss中进行索引，再用查询向量从Faiss中找到最相似的向量。"
      ],
      "metadata": {
        "id": "CufnRMeJQS_g"
      }
    },
    {
      "cell_type": "code",
      "execution_count": null,
      "metadata": {
        "id": "qF8toUDE6Gbr"
      },
      "outputs": [],
      "source": [
        "%pip install pandas sentence-transformers torch faiss-gpu"
      ]
    },
    {
      "cell_type": "code",
      "source": [
        "import pandas as pd\n",
        "from sentence_transformers import SentenceTransformer\n",
        "import faiss\n",
        "from google.colab import drive"
      ],
      "metadata": {
        "id": "Kve8zc0F6kdR"
      },
      "execution_count": 3,
      "outputs": []
    },
    {
      "cell_type": "markdown",
      "source": [
        "复制<https://github.com/brightmart/nlp_chinese_corpus>中的中文语料到google drive，再挂载google drive到/content/drive/，解压语料到本地。"
      ],
      "metadata": {
        "id": "0wM69SBMgLfg"
      }
    },
    {
      "cell_type": "code",
      "source": [
        "drive.mount('/content/drive/')"
      ],
      "metadata": {
        "colab": {
          "base_uri": "https://localhost:8080/"
        },
        "id": "MV4ih2SQgKiS",
        "outputId": "846d3299-d189-40c8-dba4-80b3d83568c4"
      },
      "execution_count": 4,
      "outputs": [
        {
          "output_type": "stream",
          "name": "stdout",
          "text": [
            "Mounted at /content/drive/\n"
          ]
        }
      ]
    },
    {
      "cell_type": "code",
      "source": [
        "!mkdir -p mydata\n",
        "!unzip /content/drive/MyDrive/train_data/baike2018qa.zip -d mydata"
      ],
      "metadata": {
        "colab": {
          "base_uri": "https://localhost:8080/"
        },
        "id": "U-sALhgOVbh4",
        "outputId": "29a6a679-d671-4a0f-c3bc-8b9131e7c0b1"
      },
      "execution_count": 5,
      "outputs": [
        {
          "output_type": "stream",
          "name": "stdout",
          "text": [
            "Archive:  /content/drive/MyDrive/train_data/baike2018qa.zip\n",
            "  inflating: mydata/baike_qa_train.json  \n",
            "  inflating: mydata/baike_qa_valid.json  \n"
          ]
        }
      ]
    },
    {
      "cell_type": "markdown",
      "source": [
        "读取语料，使用Sentence-BERT模型将语句转为密集向量。\n",
        "- BERT模型编码后通常会有512个密集向量，每个密集向量包含768个值，Sentence-BERT对BERT进行修改允许创建能够表示完整序列的单个向量。"
      ],
      "metadata": {
        "id": "MNmfeMAwgZdD"
      }
    },
    {
      "cell_type": "code",
      "source": [
        "data = pd.read_json('./mydata/baike_qa_train.json', lines=True, nrows=10000)\n",
        "\n",
        "sentences = data['title']\n",
        "\n",
        "# model = SentenceTransformer('uer/sbert-base-chinese-nli')\n",
        "model = SentenceTransformer('DMetaSoul/sbert-chinese-general-v2')\n",
        "sentence_embeddings = model.encode(sentences)\n",
        "\n",
        "sentence_embeddings.shape"
      ],
      "metadata": {
        "colab": {
          "base_uri": "https://localhost:8080/"
        },
        "id": "5vQMzsb560v6",
        "outputId": "dba63ecb-4ec3-4d74-9257-f0108e23384f"
      },
      "execution_count": 30,
      "outputs": [
        {
          "output_type": "execute_result",
          "data": {
            "text/plain": [
              "(10000, 768)"
            ]
          },
          "metadata": {},
          "execution_count": 30
        }
      ]
    },
    {
      "cell_type": "markdown",
      "source": [
        "使用模型输出向量纬度初始化faiss IndexFlatL2索引，再将编码后向量加入索引\n",
        "- IndexFlatL2能够测量查询向量与加载到索引向量间的L2（欧几里得）距离\n",
        "- IndexFlatIP使用内积拉判断向量距离(归一化的余弦相似性)\n",
        "- IndexFlat支持的其他类型度量:$L_1$距离、$L_∞$距离、$L_p$距离、堪培拉距离、马氏距离、雅卡尔指数、布雷-柯蒂斯相异度、JS散度"
      ],
      "metadata": {
        "id": "ouIMhr6vk-u3"
      }
    },
    {
      "cell_type": "code",
      "source": [
        "d = sentence_embeddings.shape[1]\n",
        "\n",
        "index = faiss.IndexFlatL2(d)\n",
        "index.add(sentence_embeddings)"
      ],
      "metadata": {
        "id": "90nH4iCv_5mU"
      },
      "execution_count": 35,
      "outputs": []
    },
    {
      "cell_type": "markdown",
      "source": [
        "将一个查询语句用相同模型编码为向量，在索引中查询4个最相似向量"
      ],
      "metadata": {
        "id": "2Fo3Icm8l1gC"
      }
    },
    {
      "cell_type": "code",
      "source": [
        "k = 4\n",
        "xq = model.encode([\"眼睛干涩发痒怎么办？\"])"
      ],
      "metadata": {
        "id": "A6ZlbER9BtJ9"
      },
      "execution_count": 39,
      "outputs": []
    },
    {
      "cell_type": "code",
      "source": [
        "%%time\n",
        "D, I = index.search(xq, k)\n",
        "print(I)"
      ],
      "metadata": {
        "colab": {
          "base_uri": "https://localhost:8080/"
        },
        "id": "6HewN2-KwOlS",
        "outputId": "3e078d2a-4c38-423d-d748-e4bdda8c8041"
      },
      "execution_count": 40,
      "outputs": [
        {
          "output_type": "stream",
          "name": "stdout",
          "text": [
            "[[8142 1502 6328 5274]]\n",
            "CPU times: user 8.78 ms, sys: 0 ns, total: 8.78 ms\n",
            "Wall time: 8.87 ms\n"
          ]
        }
      ]
    },
    {
      "cell_type": "code",
      "source": [
        "data.iloc[I[0]]"
      ],
      "metadata": {
        "colab": {
          "base_uri": "https://localhost:8080/",
          "height": 288
        },
        "id": "CYncuRtJKfFz",
        "outputId": "4798148e-2d95-4289-b029-009b8ed1f609"
      },
      "execution_count": 41,
      "outputs": [
        {
          "output_type": "execute_result",
          "data": {
            "text/plain": [
              "                          qid   category                           title  \\\n",
              "8142  qid_2203978748591224574  健康-五官科-眼科                        眼干眼痒怎么办    \n",
              "1502  qid_5936099305506517681  健康-五官科-眼科           眼睛老是痛怎么办啊，老感觉眼睛里有东西。    \n",
              "6328  qid_8638202508904030888  健康-五官科-眼科                 先谢谢了早晨起来眼肿怎么办？    \n",
              "5274  qid_6527271401979662043  健康-外科-脑外科  有什么方法能快速缓解眼睛疲劳，脑神经疲劳呀！有点累了。。。    \n",
              "\n",
              "                             desc  \\\n",
              "8142                      眼干眼痒怎么办   \n",
              "1502           老是痛怎么办啊，老感觉眼睛里有东西。   \n",
              "6328                   早晨起来眼肿怎么办？   \n",
              "5274  有什么方法能快速缓解疲劳，脑神经疲劳呀！有点累了。。。   \n",
              "\n",
              "                                                 answer  \n",
              "8142  患有干眼症可吃些维生素A ,菊花里含有丰富的维生素A,是维护眼睛健康的重要物质,因此,也是中...  \n",
              "1502  建议到医院眼科检查是否结膜炎、角膜炎等疾病。建议你到医院检查一下在服用药物，祝好。感觉眼睛有...  \n",
              "6328  眼睛肿与饮水和睡觉的姿势都有关。\\r\\n\\r\\n睡前喝太多的水，身体水分过多，由于眼睑组织较...  \n",
              "5274  眼睛干涩，平时就要注意用眼习惯，定时休息，看看远处的景物。补充维生素A，多吃胡萝卜、水果、海...  "
            ],
            "text/html": [
              "\n",
              "  <div id=\"df-a5bb3138-c233-4a79-88fb-ab8439482acc\">\n",
              "    <div class=\"colab-df-container\">\n",
              "      <div>\n",
              "<style scoped>\n",
              "    .dataframe tbody tr th:only-of-type {\n",
              "        vertical-align: middle;\n",
              "    }\n",
              "\n",
              "    .dataframe tbody tr th {\n",
              "        vertical-align: top;\n",
              "    }\n",
              "\n",
              "    .dataframe thead th {\n",
              "        text-align: right;\n",
              "    }\n",
              "</style>\n",
              "<table border=\"1\" class=\"dataframe\">\n",
              "  <thead>\n",
              "    <tr style=\"text-align: right;\">\n",
              "      <th></th>\n",
              "      <th>qid</th>\n",
              "      <th>category</th>\n",
              "      <th>title</th>\n",
              "      <th>desc</th>\n",
              "      <th>answer</th>\n",
              "    </tr>\n",
              "  </thead>\n",
              "  <tbody>\n",
              "    <tr>\n",
              "      <th>8142</th>\n",
              "      <td>qid_2203978748591224574</td>\n",
              "      <td>健康-五官科-眼科</td>\n",
              "      <td>眼干眼痒怎么办</td>\n",
              "      <td>眼干眼痒怎么办</td>\n",
              "      <td>患有干眼症可吃些维生素A ,菊花里含有丰富的维生素A,是维护眼睛健康的重要物质,因此,也是中...</td>\n",
              "    </tr>\n",
              "    <tr>\n",
              "      <th>1502</th>\n",
              "      <td>qid_5936099305506517681</td>\n",
              "      <td>健康-五官科-眼科</td>\n",
              "      <td>眼睛老是痛怎么办啊，老感觉眼睛里有东西。</td>\n",
              "      <td>老是痛怎么办啊，老感觉眼睛里有东西。</td>\n",
              "      <td>建议到医院眼科检查是否结膜炎、角膜炎等疾病。建议你到医院检查一下在服用药物，祝好。感觉眼睛有...</td>\n",
              "    </tr>\n",
              "    <tr>\n",
              "      <th>6328</th>\n",
              "      <td>qid_8638202508904030888</td>\n",
              "      <td>健康-五官科-眼科</td>\n",
              "      <td>先谢谢了早晨起来眼肿怎么办？</td>\n",
              "      <td>早晨起来眼肿怎么办？</td>\n",
              "      <td>眼睛肿与饮水和睡觉的姿势都有关。\\r\\n\\r\\n睡前喝太多的水，身体水分过多，由于眼睑组织较...</td>\n",
              "    </tr>\n",
              "    <tr>\n",
              "      <th>5274</th>\n",
              "      <td>qid_6527271401979662043</td>\n",
              "      <td>健康-外科-脑外科</td>\n",
              "      <td>有什么方法能快速缓解眼睛疲劳，脑神经疲劳呀！有点累了。。。</td>\n",
              "      <td>有什么方法能快速缓解疲劳，脑神经疲劳呀！有点累了。。。</td>\n",
              "      <td>眼睛干涩，平时就要注意用眼习惯，定时休息，看看远处的景物。补充维生素A，多吃胡萝卜、水果、海...</td>\n",
              "    </tr>\n",
              "  </tbody>\n",
              "</table>\n",
              "</div>\n",
              "      <button class=\"colab-df-convert\" onclick=\"convertToInteractive('df-a5bb3138-c233-4a79-88fb-ab8439482acc')\"\n",
              "              title=\"Convert this dataframe to an interactive table.\"\n",
              "              style=\"display:none;\">\n",
              "        \n",
              "  <svg xmlns=\"http://www.w3.org/2000/svg\" height=\"24px\"viewBox=\"0 0 24 24\"\n",
              "       width=\"24px\">\n",
              "    <path d=\"M0 0h24v24H0V0z\" fill=\"none\"/>\n",
              "    <path d=\"M18.56 5.44l.94 2.06.94-2.06 2.06-.94-2.06-.94-.94-2.06-.94 2.06-2.06.94zm-11 1L8.5 8.5l.94-2.06 2.06-.94-2.06-.94L8.5 2.5l-.94 2.06-2.06.94zm10 10l.94 2.06.94-2.06 2.06-.94-2.06-.94-.94-2.06-.94 2.06-2.06.94z\"/><path d=\"M17.41 7.96l-1.37-1.37c-.4-.4-.92-.59-1.43-.59-.52 0-1.04.2-1.43.59L10.3 9.45l-7.72 7.72c-.78.78-.78 2.05 0 2.83L4 21.41c.39.39.9.59 1.41.59.51 0 1.02-.2 1.41-.59l7.78-7.78 2.81-2.81c.8-.78.8-2.07 0-2.86zM5.41 20L4 18.59l7.72-7.72 1.47 1.35L5.41 20z\"/>\n",
              "  </svg>\n",
              "      </button>\n",
              "      \n",
              "  <style>\n",
              "    .colab-df-container {\n",
              "      display:flex;\n",
              "      flex-wrap:wrap;\n",
              "      gap: 12px;\n",
              "    }\n",
              "\n",
              "    .colab-df-convert {\n",
              "      background-color: #E8F0FE;\n",
              "      border: none;\n",
              "      border-radius: 50%;\n",
              "      cursor: pointer;\n",
              "      display: none;\n",
              "      fill: #1967D2;\n",
              "      height: 32px;\n",
              "      padding: 0 0 0 0;\n",
              "      width: 32px;\n",
              "    }\n",
              "\n",
              "    .colab-df-convert:hover {\n",
              "      background-color: #E2EBFA;\n",
              "      box-shadow: 0px 1px 2px rgba(60, 64, 67, 0.3), 0px 1px 3px 1px rgba(60, 64, 67, 0.15);\n",
              "      fill: #174EA6;\n",
              "    }\n",
              "\n",
              "    [theme=dark] .colab-df-convert {\n",
              "      background-color: #3B4455;\n",
              "      fill: #D2E3FC;\n",
              "    }\n",
              "\n",
              "    [theme=dark] .colab-df-convert:hover {\n",
              "      background-color: #434B5C;\n",
              "      box-shadow: 0px 1px 3px 1px rgba(0, 0, 0, 0.15);\n",
              "      filter: drop-shadow(0px 1px 2px rgba(0, 0, 0, 0.3));\n",
              "      fill: #FFFFFF;\n",
              "    }\n",
              "  </style>\n",
              "\n",
              "      <script>\n",
              "        const buttonEl =\n",
              "          document.querySelector('#df-a5bb3138-c233-4a79-88fb-ab8439482acc button.colab-df-convert');\n",
              "        buttonEl.style.display =\n",
              "          google.colab.kernel.accessAllowed ? 'block' : 'none';\n",
              "\n",
              "        async function convertToInteractive(key) {\n",
              "          const element = document.querySelector('#df-a5bb3138-c233-4a79-88fb-ab8439482acc');\n",
              "          const dataTable =\n",
              "            await google.colab.kernel.invokeFunction('convertToInteractive',\n",
              "                                                     [key], {});\n",
              "          if (!dataTable) return;\n",
              "\n",
              "          const docLinkHtml = 'Like what you see? Visit the ' +\n",
              "            '<a target=\"_blank\" href=https://colab.research.google.com/notebooks/data_table.ipynb>data table notebook</a>'\n",
              "            + ' to learn more about interactive tables.';\n",
              "          element.innerHTML = '';\n",
              "          dataTable['output_type'] = 'display_data';\n",
              "          await google.colab.output.renderOutput(dataTable, element);\n",
              "          const docLink = document.createElement('div');\n",
              "          docLink.innerHTML = docLinkHtml;\n",
              "          element.appendChild(docLink);\n",
              "        }\n",
              "      </script>\n",
              "    </div>\n",
              "  </div>\n",
              "  "
            ]
          },
          "metadata": {},
          "execution_count": 41
        }
      ]
    },
    {
      "cell_type": "markdown",
      "source": [
        "每次查询时会与将查询向量与索引上所有向量进行比较，大量数据时索引会变得越来越慢。有两种常用方法进行优化：\n",
        "- 减少向量大小，进行降维或减少生成向量的维数；\n",
        "- 缩小搜索范围，通过某些属性、向量距离将向量聚类或组织为树，并将搜索限制在最相似的簇或分支；"
      ],
      "metadata": {
        "id": "wDWO-Mxbm7dt"
      }
    },
    {
      "cell_type": "markdown",
      "source": [
        "faiss通过缩小搜索范围来优化查询速度：\n",
        "- IndexIVFFlat，使用k-means聚类，将数据分为nlist个簇，查询时先将查询向量与簇的特征向量进行比较，找到最相似的nprope个簇，再在簇中进行查询最相似的k个向量。IndexIVFFlat使用了聚类，在添加索引数据前需要对数据进行训练。\n"
      ],
      "metadata": {
        "id": "xT7fV5mtox-e"
      }
    },
    {
      "cell_type": "code",
      "source": [
        "nlist = 50  # 聚类数量\n",
        "\n",
        "quantizer = faiss.IndexFlatL2(d) # 聚类距离量化器\n",
        "\n",
        "indexIVF = faiss.IndexIVFFlat(quantizer, d, nlist)\n",
        "\n",
        "indexIVF.nprobe = 10 # 搜索簇数量\n",
        "\n",
        "indexIVF.train(sentence_embeddings)\n",
        "\n",
        "indexIVF.add(sentence_embeddings)"
      ],
      "metadata": {
        "id": "C9LswwcFo7VX"
      },
      "execution_count": 42,
      "outputs": []
    },
    {
      "cell_type": "code",
      "source": [
        "%%time\n",
        "D, I = indexIVF.search(xq, k)\n",
        "print(I)"
      ],
      "metadata": {
        "colab": {
          "base_uri": "https://localhost:8080/"
        },
        "id": "JhwJgQiIpgHc",
        "outputId": "271b5c2b-bb65-4ea6-8338-ccd14bd8bad9"
      },
      "execution_count": 54,
      "outputs": [
        {
          "output_type": "stream",
          "name": "stdout",
          "text": [
            "[[8142 1502 6328 5274]]\n",
            "CPU times: user 2.9 ms, sys: 999 µs, total: 3.9 ms\n",
            "Wall time: 3.74 ms\n"
          ]
        }
      ]
    },
    {
      "cell_type": "markdown",
      "source": [
        "- IndexHNSWFlat，NSW是一种图，顶点连接到最近的邻居，HNSW将NSW分为多层，消除顶点间的中间连接。\n"
      ],
      "metadata": {
        "id": "XzLhTAkho0L8"
      }
    },
    {
      "cell_type": "code",
      "source": [
        "M = 64  # 顶点邻居数量\n",
        "ef_search = 32  # 搜索索引时查询层数量\n",
        "ef_construction = 64  # 加入索引时查询层数量\n",
        "\n",
        "indexHNSW = faiss.IndexHNSWFlat(d, M)\n",
        "indexHNSW.hnsw.efConstruction = ef_construction\n",
        "indexHNSW.hnsw.efSearch = ef_search\n",
        "\n",
        "indexHNSW.add(sentence_embeddings)"
      ],
      "metadata": {
        "id": "6_a-37xQqJtE"
      },
      "execution_count": 46,
      "outputs": []
    },
    {
      "cell_type": "code",
      "source": [
        "%%time\n",
        "D, I = indexHNSW.search(xq, k)\n",
        "print(I)"
      ],
      "metadata": {
        "colab": {
          "base_uri": "https://localhost:8080/"
        },
        "id": "4YuMLdb-q1BE",
        "outputId": "bc86ddb9-be2a-40b7-941d-2645d671a033"
      },
      "execution_count": 61,
      "outputs": [
        {
          "output_type": "stream",
          "name": "stdout",
          "text": [
            "[[8142 1502 6328 5274]]\n",
            "CPU times: user 2.18 ms, sys: 1e+03 ns, total: 2.18 ms\n",
            "Wall time: 2.18 ms\n"
          ]
        }
      ]
    },
    {
      "cell_type": "markdown",
      "source": [
        "- IndexLSH，局部敏感Hash，通过Hash函数将向量分组，Hash函数需要最大化Hash冲突。"
      ],
      "metadata": {
        "id": "DgmzlSPvp59z"
      }
    },
    {
      "cell_type": "code",
      "source": [
        "nbits = 50  # 分组数量\n",
        "indexLSH = faiss.IndexLSH(d, nbits)\n",
        "indexLSH.add(sentence_embeddings)"
      ],
      "metadata": {
        "id": "OFk6L5vprQq3"
      },
      "execution_count": 48,
      "outputs": []
    },
    {
      "cell_type": "code",
      "source": [
        "%%time\n",
        "D, I = indexLSH.search(xq, k)\n",
        "print(I)"
      ],
      "metadata": {
        "colab": {
          "base_uri": "https://localhost:8080/"
        },
        "id": "SJIz1HAvrkUF",
        "outputId": "5fe1bee6-214e-4d09-9c1d-2ba824071ee8"
      },
      "execution_count": 64,
      "outputs": [
        {
          "output_type": "stream",
          "name": "stdout",
          "text": [
            "[[8142 4638 9553 3816]]\n",
            "CPU times: user 1.19 ms, sys: 0 ns, total: 1.19 ms\n",
            "Wall time: 1.07 ms\n"
          ]
        }
      ]
    },
    {
      "cell_type": "markdown",
      "source": [
        "如果完整的存储向量，当数据集很大时，会带来很大的存储压力，通常会对数据进行压缩。\n",
        "\n",
        "在faiss中可以使用Product Quantization (PQ，乘积量化)来压缩向量，PQ可以视为一个额外的近似步骤，IVF通过缩小搜索范围进行近似，PQ通过距离/相似性计算来进行近似。\n",
        "- 将原始向量拆分为几个子向量；\n",
        "- 对每个子向量执行聚类，为每个子向量集创建质心；\n",
        "- 用距离子向量最近的质心id替换子向量；"
      ],
      "metadata": {
        "id": "k7j1rvgEx1pi"
      }
    },
    {
      "cell_type": "code",
      "source": [
        "m = 8  #最终压缩向量中质心数量\n",
        "bits = 8 # 质心的位数\n",
        "\n",
        "quantizerPQ = faiss.IndexFlatL2(d)  # 继续使用L2距离进行量化\n",
        "indexIVFPQ = faiss.IndexIVFPQ(quantizerPQ, d, nlist, m, bits) \n",
        "indexIVFPQ.nprobe = 10\n",
        "\n",
        "indexIVFPQ.train(sentence_embeddings)\n",
        "indexIVFPQ.add(sentence_embeddings)"
      ],
      "metadata": {
        "id": "eulp0E8_0jQB"
      },
      "execution_count": 65,
      "outputs": []
    },
    {
      "cell_type": "code",
      "source": [
        "%%time\n",
        "D, I = indexIVFPQ.search(xq, k)\n",
        "print(I)"
      ],
      "metadata": {
        "colab": {
          "base_uri": "https://localhost:8080/"
        },
        "id": "4yR07ACY2zHS",
        "outputId": "2637bca0-2612-425f-e0f1-ad7f2bd1a3da"
      },
      "execution_count": 66,
      "outputs": [
        {
          "output_type": "stream",
          "name": "stdout",
          "text": [
            "[[6328 8142 1502 4918]]\n",
            "CPU times: user 2.61 ms, sys: 0 ns, total: 2.61 ms\n",
            "Wall time: 1.98 ms\n"
          ]
        }
      ]
    }
  ]
}